{
 "cells": [
  {
   "cell_type": "code",
   "execution_count": 3,
   "id": "89e9cbb1",
   "metadata": {},
   "outputs": [],
   "source": [
    "import pandas as pd\n",
    "import numpy as np\n",
    "import matplotlib.pyplot as plt\n",
    "import seaborn as sns\n",
    "from scipy.stats import norm\n",
    "from sklearn.model_selection import train_test_split, RandomizedSearchCV, GridSearchCV\n",
    "from sklearn.ensemble import RandomForestClassifier\n",
    "from sklearn.linear_model import LogisticRegression\n",
    "from sklearn.neighbors import KNeighborsClassifier\n",
    "from sklearn.preprocessing import StandardScaler\n",
    "from imblearn.over_sampling import SMOTE\n",
    "from sklearn.metrics import precision_score,f1_score,recall_score,confusion_matrix,classification_report\n",
    "import warnings\n",
    "warnings.filterwarnings('ignore')\n",
    "\n",
    "# Artificial Neural Network Libraries\n",
    "from tensorflow import keras\n",
    "from tensorflow.keras.utils import plot_model"
   ]
  },
  {
   "cell_type": "code",
   "execution_count": 4,
   "id": "a6e46364",
   "metadata": {},
   "outputs": [],
   "source": [
    "data = pd.read_csv('diabetes-dataset.csv')"
   ]
  },
  {
   "cell_type": "code",
   "execution_count": 5,
   "id": "79a6f5e8",
   "metadata": {},
   "outputs": [
    {
     "data": {
      "text/html": [
       "<div>\n",
       "<style scoped>\n",
       "    .dataframe tbody tr th:only-of-type {\n",
       "        vertical-align: middle;\n",
       "    }\n",
       "\n",
       "    .dataframe tbody tr th {\n",
       "        vertical-align: top;\n",
       "    }\n",
       "\n",
       "    .dataframe thead th {\n",
       "        text-align: right;\n",
       "    }\n",
       "</style>\n",
       "<table border=\"1\" class=\"dataframe\">\n",
       "  <thead>\n",
       "    <tr style=\"text-align: right;\">\n",
       "      <th></th>\n",
       "      <th>Pregnancies</th>\n",
       "      <th>Glucose</th>\n",
       "      <th>BloodPressure</th>\n",
       "      <th>SkinThickness</th>\n",
       "      <th>Insulin</th>\n",
       "      <th>BMI</th>\n",
       "      <th>DiabetesPedigreeFunction</th>\n",
       "      <th>Age</th>\n",
       "      <th>Outcome</th>\n",
       "    </tr>\n",
       "  </thead>\n",
       "  <tbody>\n",
       "    <tr>\n",
       "      <th>0</th>\n",
       "      <td>2</td>\n",
       "      <td>138</td>\n",
       "      <td>62</td>\n",
       "      <td>35</td>\n",
       "      <td>0</td>\n",
       "      <td>33.6</td>\n",
       "      <td>0.127</td>\n",
       "      <td>47</td>\n",
       "      <td>1</td>\n",
       "    </tr>\n",
       "    <tr>\n",
       "      <th>1</th>\n",
       "      <td>0</td>\n",
       "      <td>84</td>\n",
       "      <td>82</td>\n",
       "      <td>31</td>\n",
       "      <td>125</td>\n",
       "      <td>38.2</td>\n",
       "      <td>0.233</td>\n",
       "      <td>23</td>\n",
       "      <td>0</td>\n",
       "    </tr>\n",
       "    <tr>\n",
       "      <th>2</th>\n",
       "      <td>0</td>\n",
       "      <td>145</td>\n",
       "      <td>0</td>\n",
       "      <td>0</td>\n",
       "      <td>0</td>\n",
       "      <td>44.2</td>\n",
       "      <td>0.630</td>\n",
       "      <td>31</td>\n",
       "      <td>1</td>\n",
       "    </tr>\n",
       "    <tr>\n",
       "      <th>3</th>\n",
       "      <td>0</td>\n",
       "      <td>135</td>\n",
       "      <td>68</td>\n",
       "      <td>42</td>\n",
       "      <td>250</td>\n",
       "      <td>42.3</td>\n",
       "      <td>0.365</td>\n",
       "      <td>24</td>\n",
       "      <td>1</td>\n",
       "    </tr>\n",
       "    <tr>\n",
       "      <th>4</th>\n",
       "      <td>1</td>\n",
       "      <td>139</td>\n",
       "      <td>62</td>\n",
       "      <td>41</td>\n",
       "      <td>480</td>\n",
       "      <td>40.7</td>\n",
       "      <td>0.536</td>\n",
       "      <td>21</td>\n",
       "      <td>0</td>\n",
       "    </tr>\n",
       "  </tbody>\n",
       "</table>\n",
       "</div>"
      ],
      "text/plain": [
       "   Pregnancies  Glucose  BloodPressure  SkinThickness  Insulin   BMI  \\\n",
       "0            2      138             62             35        0  33.6   \n",
       "1            0       84             82             31      125  38.2   \n",
       "2            0      145              0              0        0  44.2   \n",
       "3            0      135             68             42      250  42.3   \n",
       "4            1      139             62             41      480  40.7   \n",
       "\n",
       "   DiabetesPedigreeFunction  Age  Outcome  \n",
       "0                     0.127   47        1  \n",
       "1                     0.233   23        0  \n",
       "2                     0.630   31        1  \n",
       "3                     0.365   24        1  \n",
       "4                     0.536   21        0  "
      ]
     },
     "execution_count": 5,
     "metadata": {},
     "output_type": "execute_result"
    }
   ],
   "source": [
    "data.head()"
   ]
  },
  {
   "cell_type": "code",
   "execution_count": 6,
   "id": "06fb63fb",
   "metadata": {},
   "outputs": [
    {
     "data": {
      "text/html": [
       "<div>\n",
       "<style scoped>\n",
       "    .dataframe tbody tr th:only-of-type {\n",
       "        vertical-align: middle;\n",
       "    }\n",
       "\n",
       "    .dataframe tbody tr th {\n",
       "        vertical-align: top;\n",
       "    }\n",
       "\n",
       "    .dataframe thead th {\n",
       "        text-align: right;\n",
       "    }\n",
       "</style>\n",
       "<table border=\"1\" class=\"dataframe\">\n",
       "  <thead>\n",
       "    <tr style=\"text-align: right;\">\n",
       "      <th></th>\n",
       "      <th>Pregnancies</th>\n",
       "      <th>Glucose</th>\n",
       "      <th>BloodPressure</th>\n",
       "      <th>SkinThickness</th>\n",
       "      <th>Insulin</th>\n",
       "      <th>BMI</th>\n",
       "      <th>DiabetesPedigreeFunction</th>\n",
       "      <th>Age</th>\n",
       "      <th>Outcome</th>\n",
       "    </tr>\n",
       "  </thead>\n",
       "  <tbody>\n",
       "    <tr>\n",
       "      <th>1995</th>\n",
       "      <td>2</td>\n",
       "      <td>75</td>\n",
       "      <td>64</td>\n",
       "      <td>24</td>\n",
       "      <td>55</td>\n",
       "      <td>29.7</td>\n",
       "      <td>0.370</td>\n",
       "      <td>33</td>\n",
       "      <td>0</td>\n",
       "    </tr>\n",
       "    <tr>\n",
       "      <th>1996</th>\n",
       "      <td>8</td>\n",
       "      <td>179</td>\n",
       "      <td>72</td>\n",
       "      <td>42</td>\n",
       "      <td>130</td>\n",
       "      <td>32.7</td>\n",
       "      <td>0.719</td>\n",
       "      <td>36</td>\n",
       "      <td>1</td>\n",
       "    </tr>\n",
       "    <tr>\n",
       "      <th>1997</th>\n",
       "      <td>6</td>\n",
       "      <td>85</td>\n",
       "      <td>78</td>\n",
       "      <td>0</td>\n",
       "      <td>0</td>\n",
       "      <td>31.2</td>\n",
       "      <td>0.382</td>\n",
       "      <td>42</td>\n",
       "      <td>0</td>\n",
       "    </tr>\n",
       "    <tr>\n",
       "      <th>1998</th>\n",
       "      <td>0</td>\n",
       "      <td>129</td>\n",
       "      <td>110</td>\n",
       "      <td>46</td>\n",
       "      <td>130</td>\n",
       "      <td>67.1</td>\n",
       "      <td>0.319</td>\n",
       "      <td>26</td>\n",
       "      <td>1</td>\n",
       "    </tr>\n",
       "    <tr>\n",
       "      <th>1999</th>\n",
       "      <td>2</td>\n",
       "      <td>81</td>\n",
       "      <td>72</td>\n",
       "      <td>15</td>\n",
       "      <td>76</td>\n",
       "      <td>30.1</td>\n",
       "      <td>0.547</td>\n",
       "      <td>25</td>\n",
       "      <td>0</td>\n",
       "    </tr>\n",
       "  </tbody>\n",
       "</table>\n",
       "</div>"
      ],
      "text/plain": [
       "      Pregnancies  Glucose  BloodPressure  SkinThickness  Insulin   BMI  \\\n",
       "1995            2       75             64             24       55  29.7   \n",
       "1996            8      179             72             42      130  32.7   \n",
       "1997            6       85             78              0        0  31.2   \n",
       "1998            0      129            110             46      130  67.1   \n",
       "1999            2       81             72             15       76  30.1   \n",
       "\n",
       "      DiabetesPedigreeFunction  Age  Outcome  \n",
       "1995                     0.370   33        0  \n",
       "1996                     0.719   36        1  \n",
       "1997                     0.382   42        0  \n",
       "1998                     0.319   26        1  \n",
       "1999                     0.547   25        0  "
      ]
     },
     "execution_count": 6,
     "metadata": {},
     "output_type": "execute_result"
    }
   ],
   "source": [
    "data.tail(5)"
   ]
  },
  {
   "cell_type": "code",
   "execution_count": 7,
   "id": "f2fce28e",
   "metadata": {},
   "outputs": [
    {
     "data": {
      "text/plain": [
       "(2000, 9)"
      ]
     },
     "execution_count": 7,
     "metadata": {},
     "output_type": "execute_result"
    }
   ],
   "source": [
    "data.shape"
   ]
  },
  {
   "cell_type": "code",
   "execution_count": 8,
   "id": "9c450753",
   "metadata": {},
   "outputs": [],
   "source": [
    "# The Data Set has 2000 rows and 9 columns"
   ]
  },
  {
   "cell_type": "code",
   "execution_count": 9,
   "id": "640c7c36",
   "metadata": {},
   "outputs": [],
   "source": [
    "# Created a function to get necessary information from the data set in a dataframe\n",
    "def get_data_info():\n",
    "    dataa = pd.DataFrame(index=data.columns)\n",
    "    dataa['Data_type'] = data.dtypes\n",
    "    dataa['Total Value'] = data.count()\n",
    "    dataa['Null_count'] = data.isnull().sum()\n",
    "    dataa['Unique_count'] = data.nunique()\n",
    "    return dataa"
   ]
  },
  {
   "cell_type": "code",
   "execution_count": 10,
   "id": "cad55e9d",
   "metadata": {},
   "outputs": [
    {
     "data": {
      "text/html": [
       "<div>\n",
       "<style scoped>\n",
       "    .dataframe tbody tr th:only-of-type {\n",
       "        vertical-align: middle;\n",
       "    }\n",
       "\n",
       "    .dataframe tbody tr th {\n",
       "        vertical-align: top;\n",
       "    }\n",
       "\n",
       "    .dataframe thead th {\n",
       "        text-align: right;\n",
       "    }\n",
       "</style>\n",
       "<table border=\"1\" class=\"dataframe\">\n",
       "  <thead>\n",
       "    <tr style=\"text-align: right;\">\n",
       "      <th></th>\n",
       "      <th>Data_type</th>\n",
       "      <th>Total Value</th>\n",
       "      <th>Null_count</th>\n",
       "      <th>Unique_count</th>\n",
       "    </tr>\n",
       "  </thead>\n",
       "  <tbody>\n",
       "    <tr>\n",
       "      <th>Pregnancies</th>\n",
       "      <td>int64</td>\n",
       "      <td>2000</td>\n",
       "      <td>0</td>\n",
       "      <td>17</td>\n",
       "    </tr>\n",
       "    <tr>\n",
       "      <th>Glucose</th>\n",
       "      <td>int64</td>\n",
       "      <td>2000</td>\n",
       "      <td>0</td>\n",
       "      <td>136</td>\n",
       "    </tr>\n",
       "    <tr>\n",
       "      <th>BloodPressure</th>\n",
       "      <td>int64</td>\n",
       "      <td>2000</td>\n",
       "      <td>0</td>\n",
       "      <td>47</td>\n",
       "    </tr>\n",
       "    <tr>\n",
       "      <th>SkinThickness</th>\n",
       "      <td>int64</td>\n",
       "      <td>2000</td>\n",
       "      <td>0</td>\n",
       "      <td>53</td>\n",
       "    </tr>\n",
       "    <tr>\n",
       "      <th>Insulin</th>\n",
       "      <td>int64</td>\n",
       "      <td>2000</td>\n",
       "      <td>0</td>\n",
       "      <td>182</td>\n",
       "    </tr>\n",
       "    <tr>\n",
       "      <th>BMI</th>\n",
       "      <td>float64</td>\n",
       "      <td>2000</td>\n",
       "      <td>0</td>\n",
       "      <td>247</td>\n",
       "    </tr>\n",
       "    <tr>\n",
       "      <th>DiabetesPedigreeFunction</th>\n",
       "      <td>float64</td>\n",
       "      <td>2000</td>\n",
       "      <td>0</td>\n",
       "      <td>505</td>\n",
       "    </tr>\n",
       "    <tr>\n",
       "      <th>Age</th>\n",
       "      <td>int64</td>\n",
       "      <td>2000</td>\n",
       "      <td>0</td>\n",
       "      <td>52</td>\n",
       "    </tr>\n",
       "    <tr>\n",
       "      <th>Outcome</th>\n",
       "      <td>int64</td>\n",
       "      <td>2000</td>\n",
       "      <td>0</td>\n",
       "      <td>2</td>\n",
       "    </tr>\n",
       "  </tbody>\n",
       "</table>\n",
       "</div>"
      ],
      "text/plain": [
       "                         Data_type  Total Value  Null_count  Unique_count\n",
       "Pregnancies                  int64         2000           0            17\n",
       "Glucose                      int64         2000           0           136\n",
       "BloodPressure                int64         2000           0            47\n",
       "SkinThickness                int64         2000           0            53\n",
       "Insulin                      int64         2000           0           182\n",
       "BMI                        float64         2000           0           247\n",
       "DiabetesPedigreeFunction   float64         2000           0           505\n",
       "Age                          int64         2000           0            52\n",
       "Outcome                      int64         2000           0             2"
      ]
     },
     "execution_count": 10,
     "metadata": {},
     "output_type": "execute_result"
    }
   ],
   "source": [
    "get_data_info()"
   ]
  },
  {
   "cell_type": "code",
   "execution_count": 11,
   "id": "925d5807",
   "metadata": {},
   "outputs": [],
   "source": [
    "# You can easily see the Total Values, The Total Number of Null Values and the Unique numbers in each column."
   ]
  },
  {
   "cell_type": "code",
   "execution_count": 12,
   "id": "bcd4f03d",
   "metadata": {},
   "outputs": [],
   "source": [
    "#From the above table, it shows that theirr are no NULL Values in the dataset. Let us check for outliers by using \n",
    "#Standard Deviation and removing them."
   ]
  },
  {
   "cell_type": "code",
   "execution_count": 13,
   "id": "986e9106",
   "metadata": {},
   "outputs": [
    {
     "data": {
      "text/html": [
       "<div>\n",
       "<style scoped>\n",
       "    .dataframe tbody tr th:only-of-type {\n",
       "        vertical-align: middle;\n",
       "    }\n",
       "\n",
       "    .dataframe tbody tr th {\n",
       "        vertical-align: top;\n",
       "    }\n",
       "\n",
       "    .dataframe thead th {\n",
       "        text-align: right;\n",
       "    }\n",
       "</style>\n",
       "<table border=\"1\" class=\"dataframe\">\n",
       "  <thead>\n",
       "    <tr style=\"text-align: right;\">\n",
       "      <th></th>\n",
       "      <th>Pregnancies</th>\n",
       "      <th>Glucose</th>\n",
       "      <th>BloodPressure</th>\n",
       "      <th>SkinThickness</th>\n",
       "      <th>Insulin</th>\n",
       "      <th>BMI</th>\n",
       "      <th>DiabetesPedigreeFunction</th>\n",
       "      <th>Age</th>\n",
       "      <th>Outcome</th>\n",
       "    </tr>\n",
       "  </thead>\n",
       "  <tbody>\n",
       "    <tr>\n",
       "      <th>count</th>\n",
       "      <td>2000.000000</td>\n",
       "      <td>2000.000000</td>\n",
       "      <td>2000.000000</td>\n",
       "      <td>2000.000000</td>\n",
       "      <td>2000.000000</td>\n",
       "      <td>2000.000000</td>\n",
       "      <td>2000.000000</td>\n",
       "      <td>2000.000000</td>\n",
       "      <td>2000.000000</td>\n",
       "    </tr>\n",
       "    <tr>\n",
       "      <th>mean</th>\n",
       "      <td>3.703500</td>\n",
       "      <td>121.182500</td>\n",
       "      <td>69.145500</td>\n",
       "      <td>20.935000</td>\n",
       "      <td>80.254000</td>\n",
       "      <td>32.193000</td>\n",
       "      <td>0.470930</td>\n",
       "      <td>33.090500</td>\n",
       "      <td>0.342000</td>\n",
       "    </tr>\n",
       "    <tr>\n",
       "      <th>std</th>\n",
       "      <td>3.306063</td>\n",
       "      <td>32.068636</td>\n",
       "      <td>19.188315</td>\n",
       "      <td>16.103243</td>\n",
       "      <td>111.180534</td>\n",
       "      <td>8.149901</td>\n",
       "      <td>0.323553</td>\n",
       "      <td>11.786423</td>\n",
       "      <td>0.474498</td>\n",
       "    </tr>\n",
       "    <tr>\n",
       "      <th>min</th>\n",
       "      <td>0.000000</td>\n",
       "      <td>0.000000</td>\n",
       "      <td>0.000000</td>\n",
       "      <td>0.000000</td>\n",
       "      <td>0.000000</td>\n",
       "      <td>0.000000</td>\n",
       "      <td>0.078000</td>\n",
       "      <td>21.000000</td>\n",
       "      <td>0.000000</td>\n",
       "    </tr>\n",
       "    <tr>\n",
       "      <th>25%</th>\n",
       "      <td>1.000000</td>\n",
       "      <td>99.000000</td>\n",
       "      <td>63.500000</td>\n",
       "      <td>0.000000</td>\n",
       "      <td>0.000000</td>\n",
       "      <td>27.375000</td>\n",
       "      <td>0.244000</td>\n",
       "      <td>24.000000</td>\n",
       "      <td>0.000000</td>\n",
       "    </tr>\n",
       "    <tr>\n",
       "      <th>50%</th>\n",
       "      <td>3.000000</td>\n",
       "      <td>117.000000</td>\n",
       "      <td>72.000000</td>\n",
       "      <td>23.000000</td>\n",
       "      <td>40.000000</td>\n",
       "      <td>32.300000</td>\n",
       "      <td>0.376000</td>\n",
       "      <td>29.000000</td>\n",
       "      <td>0.000000</td>\n",
       "    </tr>\n",
       "    <tr>\n",
       "      <th>75%</th>\n",
       "      <td>6.000000</td>\n",
       "      <td>141.000000</td>\n",
       "      <td>80.000000</td>\n",
       "      <td>32.000000</td>\n",
       "      <td>130.000000</td>\n",
       "      <td>36.800000</td>\n",
       "      <td>0.624000</td>\n",
       "      <td>40.000000</td>\n",
       "      <td>1.000000</td>\n",
       "    </tr>\n",
       "    <tr>\n",
       "      <th>max</th>\n",
       "      <td>17.000000</td>\n",
       "      <td>199.000000</td>\n",
       "      <td>122.000000</td>\n",
       "      <td>110.000000</td>\n",
       "      <td>744.000000</td>\n",
       "      <td>80.600000</td>\n",
       "      <td>2.420000</td>\n",
       "      <td>81.000000</td>\n",
       "      <td>1.000000</td>\n",
       "    </tr>\n",
       "  </tbody>\n",
       "</table>\n",
       "</div>"
      ],
      "text/plain": [
       "       Pregnancies      Glucose  BloodPressure  SkinThickness      Insulin  \\\n",
       "count  2000.000000  2000.000000    2000.000000    2000.000000  2000.000000   \n",
       "mean      3.703500   121.182500      69.145500      20.935000    80.254000   \n",
       "std       3.306063    32.068636      19.188315      16.103243   111.180534   \n",
       "min       0.000000     0.000000       0.000000       0.000000     0.000000   \n",
       "25%       1.000000    99.000000      63.500000       0.000000     0.000000   \n",
       "50%       3.000000   117.000000      72.000000      23.000000    40.000000   \n",
       "75%       6.000000   141.000000      80.000000      32.000000   130.000000   \n",
       "max      17.000000   199.000000     122.000000     110.000000   744.000000   \n",
       "\n",
       "               BMI  DiabetesPedigreeFunction          Age      Outcome  \n",
       "count  2000.000000               2000.000000  2000.000000  2000.000000  \n",
       "mean     32.193000                  0.470930    33.090500     0.342000  \n",
       "std       8.149901                  0.323553    11.786423     0.474498  \n",
       "min       0.000000                  0.078000    21.000000     0.000000  \n",
       "25%      27.375000                  0.244000    24.000000     0.000000  \n",
       "50%      32.300000                  0.376000    29.000000     0.000000  \n",
       "75%      36.800000                  0.624000    40.000000     1.000000  \n",
       "max      80.600000                  2.420000    81.000000     1.000000  "
      ]
     },
     "execution_count": 13,
     "metadata": {},
     "output_type": "execute_result"
    }
   ],
   "source": [
    "data.describe()"
   ]
  },
  {
   "cell_type": "code",
   "execution_count": 14,
   "id": "2d0b5503",
   "metadata": {
    "scrolled": false
   },
   "outputs": [
    {
     "data": {
      "image/png": "[encoded data removed]",
      "text/plain": [
       "<Figure size 432x288 with 1 Axes>"
      ]
     },
     "metadata": {
      "needs_background": "light"
     },
     "output_type": "display_data"
    },
    {
     "data": {
      "image/png": "[encoded data removed]",
      "text/plain": [
       "<Figure size 432x288 with 1 Axes>"
      ]
     },
     "metadata": {
      "needs_background": "light"
     },
     "output_type": "display_data"
    },
    {
     "data": {
      "image/png": "[encoded data removed]",
      "text/plain": [
       "<Figure size 432x288 with 1 Axes>"
      ]
     },
     "metadata": {
      "needs_background": "light"
     },
     "output_type": "display_data"
    },
    {
     "data": {
      "image/png": "[encoded data removed]",
      "text/plain": [
       "<Figure size 432x288 with 1 Axes>"
      ]
     },
     "metadata": {
      "needs_background": "light"
     },
     "output_type": "display_data"
    },
    {
     "data": {
      "image/png": "[encoded data removed]",
      "text/plain": [
       "<Figure size 432x288 with 1 Axes>"
      ]
     },
     "metadata": {
      "needs_background": "light"
     },
     "output_type": "display_data"
    },
    {
     "data": {
      "image/png": "[encoded data removed]",
      "text/plain": [
       "<Figure size 432x288 with 1 Axes>"
      ]
     },
     "metadata": {
      "needs_background": "light"
     },
     "output_type": "display_data"
    },
    {
     "data": {
      "image/png": "[encoded data removed]",
      "text/plain": [
       "<Figure size 432x288 with 1 Axes>"
      ]
     },
     "metadata": {
      "needs_background": "light"
     },
     "output_type": "display_data"
    },
    {
     "data": {
      "image/png": "[encoded data removed]",
      "text/plain": [
       "<Figure size 432x288 with 1 Axes>"
      ]
     },
     "metadata": {
      "needs_background": "light"
     },
     "output_type": "display_data"
    }
   ],
   "source": [
    "# Let's start by visualizing the distribution of values within each column except the Outcome column which is our target\n",
    "for i in data.columns:\n",
    "    if i =='Outcome':\n",
    "        pass\n",
    "    else:\n",
    "        plt.hist(data[i],bins=20,rwidth=0.8,density=True)\n",
    "        plt.xlabel(i)\n",
    "        plt.ylabel('Count')\n",
    "        rng = np.arange(data[i].min(),data[i].max(),0.1)\n",
    "        plt.plot(rng,norm.pdf(rng,data[i].mean(),data[i].std()))\n",
    "        plt.show()"
   ]
  },
  {
   "cell_type": "code",
   "execution_count": 15,
   "id": "ad939ed6",
   "metadata": {},
   "outputs": [
    {
     "data": {
      "text/plain": [
       "(1776, 9)"
      ]
     },
     "execution_count": 15,
     "metadata": {},
     "output_type": "execute_result"
    }
   ],
   "source": [
    "#Detect and remove the outliers using the standaard deviation. Any value outside the 3rd range will be dropped as an outlier\n",
    "\n",
    "for i in data.columns:\n",
    "    upper_limit = data[i].mean() + (3*data[i].std())\n",
    "    lower_limit = data[i].mean() - (3*data[i].std())\n",
    "    data = data[(data[i]<upper_limit) & (data[i]>lower_limit)]\n",
    "data.shape"
   ]
  },
  {
   "cell_type": "code",
   "execution_count": 16,
   "id": "50d1eae7",
   "metadata": {},
   "outputs": [],
   "source": [
    "# All outliers have been removed and all the null values too. So let's Visualize"
   ]
  },
  {
   "cell_type": "markdown",
   "id": "ab43d102",
   "metadata": {},
   "source": [
    "## DATA VISUALIZATION"
   ]
  },
  {
   "cell_type": "code",
   "execution_count": 17,
   "id": "bd875410",
   "metadata": {},
   "outputs": [],
   "source": [
    "#Categorizing my BMI, Age and Glucose Columns into categorical values using range.\n",
    "#Categories used\n",
    "#Age: 0-12   :  Children,    BMI: 0-18  : Underweight       GlucoseLevel:   0-89      : Low\n",
    "#     13-17  :  Teens,            19-24 : Ideal                             90-159    : Normal\n",
    "#     18-44  :  Adults            25-30 : Overweight                        160-229   : High\n",
    "#     45-59  :  Mid Adults        30-50 : Obesity                           230-500   : Very High\n",
    "#     60-150 :  Elderly\n",
    "\n",
    "data['bmi_cat'] = pd.cut(data['BMI'], bins = [0, 19, 25,30,50], labels = ['Underweight', 'Ideal', 'Overweight', 'Obesity'])\n",
    "data['age_cat'] = pd.cut(data['Age'], bins = [0,13,18, 45,60,150], labels = ['Children', 'Teens', 'Adults','Mid Adults','Elderly'])\n",
    "data['glucose_cat'] = pd.cut(data['Glucose'], bins = [0,90,160,230,500], labels = ['Low', 'Normal', 'High', 'Very High'])"
   ]
  },
  {
   "cell_type": "code",
   "execution_count": 18,
   "id": "677f0fb1",
   "metadata": {},
   "outputs": [
    {
     "data": {
      "text/html": [
       "<div>\n",
       "<style scoped>\n",
       "    .dataframe tbody tr th:only-of-type {\n",
       "        vertical-align: middle;\n",
       "    }\n",
       "\n",
       "    .dataframe tbody tr th {\n",
       "        vertical-align: top;\n",
       "    }\n",
       "\n",
       "    .dataframe thead th {\n",
       "        text-align: right;\n",
       "    }\n",
       "</style>\n",
       "<table border=\"1\" class=\"dataframe\">\n",
       "  <thead>\n",
       "    <tr style=\"text-align: right;\">\n",
       "      <th></th>\n",
       "      <th>Pregnancies</th>\n",
       "      <th>Glucose</th>\n",
       "      <th>BloodPressure</th>\n",
       "      <th>SkinThickness</th>\n",
       "      <th>Insulin</th>\n",
       "      <th>BMI</th>\n",
       "      <th>DiabetesPedigreeFunction</th>\n",
       "      <th>Age</th>\n",
       "      <th>Outcome</th>\n",
       "      <th>bmi_cat</th>\n",
       "      <th>age_cat</th>\n",
       "      <th>glucose_cat</th>\n",
       "    </tr>\n",
       "  </thead>\n",
       "  <tbody>\n",
       "    <tr>\n",
       "      <th>0</th>\n",
       "      <td>2</td>\n",
       "      <td>138</td>\n",
       "      <td>62</td>\n",
       "      <td>35</td>\n",
       "      <td>0</td>\n",
       "      <td>33.6</td>\n",
       "      <td>0.127</td>\n",
       "      <td>47</td>\n",
       "      <td>1</td>\n",
       "      <td>Obesity</td>\n",
       "      <td>Mid Adults</td>\n",
       "      <td>Normal</td>\n",
       "    </tr>\n",
       "    <tr>\n",
       "      <th>1</th>\n",
       "      <td>0</td>\n",
       "      <td>84</td>\n",
       "      <td>82</td>\n",
       "      <td>31</td>\n",
       "      <td>125</td>\n",
       "      <td>38.2</td>\n",
       "      <td>0.233</td>\n",
       "      <td>23</td>\n",
       "      <td>0</td>\n",
       "      <td>Obesity</td>\n",
       "      <td>Adults</td>\n",
       "      <td>Low</td>\n",
       "    </tr>\n",
       "    <tr>\n",
       "      <th>3</th>\n",
       "      <td>0</td>\n",
       "      <td>135</td>\n",
       "      <td>68</td>\n",
       "      <td>42</td>\n",
       "      <td>250</td>\n",
       "      <td>42.3</td>\n",
       "      <td>0.365</td>\n",
       "      <td>24</td>\n",
       "      <td>1</td>\n",
       "      <td>Obesity</td>\n",
       "      <td>Adults</td>\n",
       "      <td>Normal</td>\n",
       "    </tr>\n",
       "    <tr>\n",
       "      <th>5</th>\n",
       "      <td>0</td>\n",
       "      <td>173</td>\n",
       "      <td>78</td>\n",
       "      <td>32</td>\n",
       "      <td>265</td>\n",
       "      <td>46.5</td>\n",
       "      <td>1.159</td>\n",
       "      <td>58</td>\n",
       "      <td>0</td>\n",
       "      <td>Obesity</td>\n",
       "      <td>Mid Adults</td>\n",
       "      <td>High</td>\n",
       "    </tr>\n",
       "    <tr>\n",
       "      <th>6</th>\n",
       "      <td>4</td>\n",
       "      <td>99</td>\n",
       "      <td>72</td>\n",
       "      <td>17</td>\n",
       "      <td>0</td>\n",
       "      <td>25.6</td>\n",
       "      <td>0.294</td>\n",
       "      <td>28</td>\n",
       "      <td>0</td>\n",
       "      <td>Overweight</td>\n",
       "      <td>Adults</td>\n",
       "      <td>Normal</td>\n",
       "    </tr>\n",
       "  </tbody>\n",
       "</table>\n",
       "</div>"
      ],
      "text/plain": [
       "   Pregnancies  Glucose  BloodPressure  SkinThickness  Insulin   BMI  \\\n",
       "0            2      138             62             35        0  33.6   \n",
       "1            0       84             82             31      125  38.2   \n",
       "3            0      135             68             42      250  42.3   \n",
       "5            0      173             78             32      265  46.5   \n",
       "6            4       99             72             17        0  25.6   \n",
       "\n",
       "   DiabetesPedigreeFunction  Age  Outcome     bmi_cat     age_cat glucose_cat  \n",
       "0                     0.127   47        1     Obesity  Mid Adults      Normal  \n",
       "1                     0.233   23        0     Obesity      Adults         Low  \n",
       "3                     0.365   24        1     Obesity      Adults      Normal  \n",
       "5                     1.159   58        0     Obesity  Mid Adults        High  \n",
       "6                     0.294   28        0  Overweight      Adults      Normal  "
      ]
     },
     "execution_count": 18,
     "metadata": {},
     "output_type": "execute_result"
    }
   ],
   "source": [
    "data.head()"
   ]
  },
  {
   "cell_type": "code",
   "execution_count": 19,
   "id": "c151ea99",
   "metadata": {},
   "outputs": [
    {
     "data": {
      "image/png": "[encoded data removed]",
      "text/plain": [
       "<Figure size 720x540 with 1 Axes>"
      ]
     },
     "metadata": {},
     "output_type": "display_data"
    }
   ],
   "source": [
    "palette2 = ['#33ECB5','#ff0000']\n",
    "\n",
    "colors = ('#E2F11C','#E3460A')\n",
    "plt.figure(figsize=(10,7.5))\n",
    "label = ['Healthy','Have Diabetes']\n",
    "patches, texts, pcts = plt.pie(data.Outcome.value_counts(),\n",
    "                               labels=label,\n",
    "                               colors=[palette2[0],'#ff0000'],\n",
    "                               pctdistance=0.82,\n",
    "                               shadow=False,\n",
    "                               startangle=90,\n",
    "                               autopct='%1.1f%%',\n",
    "                               textprops={'fontsize': 15.5,\n",
    "                                          'weight': 'bold'\n",
    "                                          })\n",
    "plt.setp(pcts, color='white')\n",
    "\n",
    "hfont = {'fontname':'calibri', 'weight': 'bold'}\n",
    "plt.title('Distribution of Patients', size=25, **hfont)\n",
    "\n",
    "centre_circle = plt.Circle((0,0),0.65,fc='white')\n",
    "fig = plt.gcf()\n",
    "fig.gca().add_artist(centre_circle)\n",
    "plt.savefig(\"Visualizations\\DistributionofPatients.png\")\n",
    "plt.show()\n",
    "# plt.text(0.5,0.5,'Percentage of People leaving with Stroke', horizontalalignment='center',verticalalignment='center',size=18, alpha = 0.6)"
   ]
  },
  {
   "cell_type": "code",
   "execution_count": 20,
   "id": "e1fc738b",
   "metadata": {},
   "outputs": [
    {
     "data": {
      "image/png": "[encoded data removed]",
      "text/plain": [
       "<Figure size 1080x540 with 1 Axes>"
      ]
     },
     "metadata": {
      "needs_background": "light"
     },
     "output_type": "display_data"
    }
   ],
   "source": [
    "fig = plt.figure(figsize=(15, 7.5))\n",
    "ax = fig.add_subplot(111)\n",
    "plt.title('Distribution of Patients by Age\\n', size=28, **hfont)\n",
    "ax.grid(False)\n",
    "ax.axes.get_yaxis().set_visible(False)\n",
    "ax.text(50, 0.03, 'Have Diabetes', {'font': 'Serif',\n",
    "                             'size': '20',\n",
    "                             'weight': 'bold',\n",
    "                             'color': '#ff0000'}, alpha=0.9)\n",
    "\n",
    "ax.text(64, 0.03, '|', {'font': 'Serif',\n",
    "                       'size': '20',\n",
    "                       'weight': 'bold',\n",
    "                       'color': 'black'}, alpha=0.9)\n",
    "\n",
    "ax.text(65, 0.03, 'Healthy', {'font': 'Serif',\n",
    "                              'size': '20',\n",
    "                              'weight': 'bold',\n",
    "                              'color': palette2[0]}, alpha=0.9)\n",
    "\n",
    "sns.kdeplot(data=data[data.Outcome == 1],\n",
    "            x='Age', shade=True, ax=ax, color='#ff0000', alpha=1)\n",
    "sns.kdeplot(data=data[data.Outcome == 0],\n",
    "            x='Age', shade=True, ax=ax, color=palette2[0], alpha=0.7)\n",
    "plt.xlabel('Age', **hfont)\n",
    "plt.savefig(\"Visualizations\\DistributionofPatientsbyage.png\")\n",
    "plt.show()"
   ]
  },
  {
   "cell_type": "code",
   "execution_count": 21,
   "id": "d2e29949",
   "metadata": {},
   "outputs": [
    {
     "data": {
      "text/html": [
       "<div>\n",
       "<style scoped>\n",
       "    .dataframe tbody tr th:only-of-type {\n",
       "        vertical-align: middle;\n",
       "    }\n",
       "\n",
       "    .dataframe tbody tr th {\n",
       "        vertical-align: top;\n",
       "    }\n",
       "\n",
       "    .dataframe thead th {\n",
       "        text-align: right;\n",
       "    }\n",
       "</style>\n",
       "<table border=\"1\" class=\"dataframe\">\n",
       "  <thead>\n",
       "    <tr style=\"text-align: right;\">\n",
       "      <th></th>\n",
       "      <th>age_cat</th>\n",
       "      <th>Outcome</th>\n",
       "      <th>Count</th>\n",
       "    </tr>\n",
       "  </thead>\n",
       "  <tbody>\n",
       "    <tr>\n",
       "      <th>0</th>\n",
       "      <td>Children</td>\n",
       "      <td>0</td>\n",
       "      <td>0</td>\n",
       "    </tr>\n",
       "    <tr>\n",
       "      <th>1</th>\n",
       "      <td>Children</td>\n",
       "      <td>1</td>\n",
       "      <td>0</td>\n",
       "    </tr>\n",
       "    <tr>\n",
       "      <th>2</th>\n",
       "      <td>Teens</td>\n",
       "      <td>0</td>\n",
       "      <td>0</td>\n",
       "    </tr>\n",
       "    <tr>\n",
       "      <th>3</th>\n",
       "      <td>Teens</td>\n",
       "      <td>1</td>\n",
       "      <td>0</td>\n",
       "    </tr>\n",
       "    <tr>\n",
       "      <th>4</th>\n",
       "      <td>Adults</td>\n",
       "      <td>0</td>\n",
       "      <td>1063</td>\n",
       "    </tr>\n",
       "    <tr>\n",
       "      <th>5</th>\n",
       "      <td>Adults</td>\n",
       "      <td>1</td>\n",
       "      <td>452</td>\n",
       "    </tr>\n",
       "    <tr>\n",
       "      <th>6</th>\n",
       "      <td>Mid Adults</td>\n",
       "      <td>0</td>\n",
       "      <td>93</td>\n",
       "    </tr>\n",
       "    <tr>\n",
       "      <th>7</th>\n",
       "      <td>Mid Adults</td>\n",
       "      <td>1</td>\n",
       "      <td>106</td>\n",
       "    </tr>\n",
       "    <tr>\n",
       "      <th>8</th>\n",
       "      <td>Elderly</td>\n",
       "      <td>0</td>\n",
       "      <td>46</td>\n",
       "    </tr>\n",
       "    <tr>\n",
       "      <th>9</th>\n",
       "      <td>Elderly</td>\n",
       "      <td>1</td>\n",
       "      <td>16</td>\n",
       "    </tr>\n",
       "  </tbody>\n",
       "</table>\n",
       "</div>"
      ],
      "text/plain": [
       "      age_cat  Outcome  Count\n",
       "0    Children        0      0\n",
       "1    Children        1      0\n",
       "2       Teens        0      0\n",
       "3       Teens        1      0\n",
       "4      Adults        0   1063\n",
       "5      Adults        1    452\n",
       "6  Mid Adults        0     93\n",
       "7  Mid Adults        1    106\n",
       "8     Elderly        0     46\n",
       "9     Elderly        1     16"
      ]
     },
     "execution_count": 21,
     "metadata": {},
     "output_type": "execute_result"
    }
   ],
   "source": [
    "breakdownbyage = data.groupby(['age_cat','Outcome']).size().reset_index(name ='Count')\n",
    "breakdownbyage"
   ]
  },
  {
   "cell_type": "code",
   "execution_count": 22,
   "id": "ca977daa",
   "metadata": {},
   "outputs": [
    {
     "data": {
      "image/png": "[encoded data removed]",
      "text/plain": [
       "<Figure size 864x432 with 1 Axes>"
      ]
     },
     "metadata": {
      "needs_background": "light"
     },
     "output_type": "display_data"
    }
   ],
   "source": [
    "plt.figure(figsize = (12,6))\n",
    "labels=[\"Healty\",\"Diabetic\"]\n",
    "g = sns.barplot(x ='age_cat', y = 'Count', hue = 'Outcome', data = breakdownbyage, palette = palette2)\n",
    "h, l = g.get_legend_handles_labels()\n",
    "g.legend(h, labels, title=\"\")\n",
    "plt.title(\"Age Distribution \\n\",size=18, **hfont)\n",
    "plt.savefig(\"Visualizations\\AgeDistribution.png\")\n",
    "plt.show()"
   ]
  },
  {
   "cell_type": "code",
   "execution_count": 23,
   "id": "b725214e",
   "metadata": {},
   "outputs": [
    {
     "data": {
      "text/html": [
       "<div>\n",
       "<style scoped>\n",
       "    .dataframe tbody tr th:only-of-type {\n",
       "        vertical-align: middle;\n",
       "    }\n",
       "\n",
       "    .dataframe tbody tr th {\n",
       "        vertical-align: top;\n",
       "    }\n",
       "\n",
       "    .dataframe thead th {\n",
       "        text-align: right;\n",
       "    }\n",
       "</style>\n",
       "<table border=\"1\" class=\"dataframe\">\n",
       "  <thead>\n",
       "    <tr style=\"text-align: right;\">\n",
       "      <th></th>\n",
       "      <th>bmi_cat</th>\n",
       "      <th>Outcome</th>\n",
       "      <th>Count</th>\n",
       "    </tr>\n",
       "  </thead>\n",
       "  <tbody>\n",
       "    <tr>\n",
       "      <th>0</th>\n",
       "      <td>Underweight</td>\n",
       "      <td>0</td>\n",
       "      <td>10</td>\n",
       "    </tr>\n",
       "    <tr>\n",
       "      <th>1</th>\n",
       "      <td>Underweight</td>\n",
       "      <td>1</td>\n",
       "      <td>0</td>\n",
       "    </tr>\n",
       "    <tr>\n",
       "      <th>2</th>\n",
       "      <td>Ideal</td>\n",
       "      <td>0</td>\n",
       "      <td>225</td>\n",
       "    </tr>\n",
       "    <tr>\n",
       "      <th>3</th>\n",
       "      <td>Ideal</td>\n",
       "      <td>1</td>\n",
       "      <td>18</td>\n",
       "    </tr>\n",
       "    <tr>\n",
       "      <th>4</th>\n",
       "      <td>Overweight</td>\n",
       "      <td>0</td>\n",
       "      <td>340</td>\n",
       "    </tr>\n",
       "    <tr>\n",
       "      <th>5</th>\n",
       "      <td>Overweight</td>\n",
       "      <td>1</td>\n",
       "      <td>103</td>\n",
       "    </tr>\n",
       "    <tr>\n",
       "      <th>6</th>\n",
       "      <td>Obesity</td>\n",
       "      <td>0</td>\n",
       "      <td>625</td>\n",
       "    </tr>\n",
       "    <tr>\n",
       "      <th>7</th>\n",
       "      <td>Obesity</td>\n",
       "      <td>1</td>\n",
       "      <td>445</td>\n",
       "    </tr>\n",
       "  </tbody>\n",
       "</table>\n",
       "</div>"
      ],
      "text/plain": [
       "       bmi_cat  Outcome  Count\n",
       "0  Underweight        0     10\n",
       "1  Underweight        1      0\n",
       "2        Ideal        0    225\n",
       "3        Ideal        1     18\n",
       "4   Overweight        0    340\n",
       "5   Overweight        1    103\n",
       "6      Obesity        0    625\n",
       "7      Obesity        1    445"
      ]
     },
     "execution_count": 23,
     "metadata": {},
     "output_type": "execute_result"
    }
   ],
   "source": [
    "breakdownbybmi = data.groupby(['bmi_cat','Outcome']).size().reset_index(name ='Count')\n",
    "breakdownbybmi"
   ]
  },
  {
   "cell_type": "code",
   "execution_count": 24,
   "id": "89442002",
   "metadata": {},
   "outputs": [
    {
     "data": {
      "image/png": "[encoded data removed]",
      "text/plain": [
       "<Figure size 864x432 with 1 Axes>"
      ]
     },
     "metadata": {
      "needs_background": "light"
     },
     "output_type": "display_data"
    }
   ],
   "source": [
    "plt.figure(figsize = (12,6))\n",
    "labels=[\"Healty\",\"Diabetic\"]\n",
    "g = sns.barplot(x ='bmi_cat', y = 'Count', hue = 'Outcome', data = breakdownbybmi, palette = palette2)\n",
    "h, l = g.get_legend_handles_labels()\n",
    "g.legend(h, labels, title=\"\")\n",
    "plt.title(\"BMI Distribution\",size=18, **hfont)\n",
    "plt.savefig(\"Visualizations\\BMIDistribution.png\")\n",
    "plt.show()"
   ]
  },
  {
   "cell_type": "code",
   "execution_count": 25,
   "id": "f0de8d19",
   "metadata": {},
   "outputs": [],
   "source": [
    "# From the above, it shows that BMI determines weather a patient has Diabetics or not."
   ]
  },
  {
   "cell_type": "code",
   "execution_count": 26,
   "id": "edeb5dad",
   "metadata": {},
   "outputs": [
    {
     "data": {
      "text/html": [
       "<div>\n",
       "<style scoped>\n",
       "    .dataframe tbody tr th:only-of-type {\n",
       "        vertical-align: middle;\n",
       "    }\n",
       "\n",
       "    .dataframe tbody tr th {\n",
       "        vertical-align: top;\n",
       "    }\n",
       "\n",
       "    .dataframe thead th {\n",
       "        text-align: right;\n",
       "    }\n",
       "</style>\n",
       "<table border=\"1\" class=\"dataframe\">\n",
       "  <thead>\n",
       "    <tr style=\"text-align: right;\">\n",
       "      <th></th>\n",
       "      <th>glucose_cat</th>\n",
       "      <th>Outcome</th>\n",
       "      <th>Count</th>\n",
       "    </tr>\n",
       "  </thead>\n",
       "  <tbody>\n",
       "    <tr>\n",
       "      <th>0</th>\n",
       "      <td>Low</td>\n",
       "      <td>0</td>\n",
       "      <td>251</td>\n",
       "    </tr>\n",
       "    <tr>\n",
       "      <th>1</th>\n",
       "      <td>Low</td>\n",
       "      <td>1</td>\n",
       "      <td>12</td>\n",
       "    </tr>\n",
       "    <tr>\n",
       "      <th>2</th>\n",
       "      <td>Normal</td>\n",
       "      <td>0</td>\n",
       "      <td>904</td>\n",
       "    </tr>\n",
       "    <tr>\n",
       "      <th>3</th>\n",
       "      <td>Normal</td>\n",
       "      <td>1</td>\n",
       "      <td>388</td>\n",
       "    </tr>\n",
       "    <tr>\n",
       "      <th>4</th>\n",
       "      <td>High</td>\n",
       "      <td>0</td>\n",
       "      <td>47</td>\n",
       "    </tr>\n",
       "    <tr>\n",
       "      <th>5</th>\n",
       "      <td>High</td>\n",
       "      <td>1</td>\n",
       "      <td>174</td>\n",
       "    </tr>\n",
       "    <tr>\n",
       "      <th>6</th>\n",
       "      <td>Very High</td>\n",
       "      <td>0</td>\n",
       "      <td>0</td>\n",
       "    </tr>\n",
       "    <tr>\n",
       "      <th>7</th>\n",
       "      <td>Very High</td>\n",
       "      <td>1</td>\n",
       "      <td>0</td>\n",
       "    </tr>\n",
       "  </tbody>\n",
       "</table>\n",
       "</div>"
      ],
      "text/plain": [
       "  glucose_cat  Outcome  Count\n",
       "0         Low        0    251\n",
       "1         Low        1     12\n",
       "2      Normal        0    904\n",
       "3      Normal        1    388\n",
       "4        High        0     47\n",
       "5        High        1    174\n",
       "6   Very High        0      0\n",
       "7   Very High        1      0"
      ]
     },
     "execution_count": 26,
     "metadata": {},
     "output_type": "execute_result"
    }
   ],
   "source": [
    "breakdownbyglucose = data.groupby(['glucose_cat','Outcome']).size().reset_index(name ='Count')\n",
    "breakdownbyglucose"
   ]
  },
  {
   "cell_type": "code",
   "execution_count": 27,
   "id": "16d4c1e1",
   "metadata": {},
   "outputs": [
    {
     "data": {
      "image/png": "[encoded data removed]",
      "text/plain": [
       "<Figure size 864x432 with 1 Axes>"
      ]
     },
     "metadata": {
      "needs_background": "light"
     },
     "output_type": "display_data"
    }
   ],
   "source": [
    "plt.figure(figsize = (12,6))\n",
    "labels=[\"Healty\",\"Diabetic\"]\n",
    "g = sns.barplot(x ='glucose_cat', y = 'Count', hue = 'Outcome', data = breakdownbyglucose, palette = palette2)\n",
    "h, l = g.get_legend_handles_labels()\n",
    "g.legend(h, labels, title=\"\")\n",
    "plt.title(\"Glucose Distribution\",size=18, **hfont)\n",
    "plt.savefig(\"Visualizations\\GlucoseDistribution.png\")\n",
    "plt.show()"
   ]
  },
  {
   "cell_type": "code",
   "execution_count": 28,
   "id": "364adcf3",
   "metadata": {},
   "outputs": [
    {
     "data": {
      "text/html": [
       "<div>\n",
       "<style scoped>\n",
       "    .dataframe tbody tr th:only-of-type {\n",
       "        vertical-align: middle;\n",
       "    }\n",
       "\n",
       "    .dataframe tbody tr th {\n",
       "        vertical-align: top;\n",
       "    }\n",
       "\n",
       "    .dataframe thead th {\n",
       "        text-align: right;\n",
       "    }\n",
       "</style>\n",
       "<table border=\"1\" class=\"dataframe\">\n",
       "  <thead>\n",
       "    <tr style=\"text-align: right;\">\n",
       "      <th></th>\n",
       "      <th>Pregnancies</th>\n",
       "      <th>Outcome</th>\n",
       "      <th>Count</th>\n",
       "    </tr>\n",
       "  </thead>\n",
       "  <tbody>\n",
       "    <tr>\n",
       "      <th>0</th>\n",
       "      <td>0</td>\n",
       "      <td>0</td>\n",
       "      <td>180</td>\n",
       "    </tr>\n",
       "    <tr>\n",
       "      <th>1</th>\n",
       "      <td>0</td>\n",
       "      <td>1</td>\n",
       "      <td>67</td>\n",
       "    </tr>\n",
       "    <tr>\n",
       "      <th>2</th>\n",
       "      <td>1</td>\n",
       "      <td>0</td>\n",
       "      <td>261</td>\n",
       "    </tr>\n",
       "    <tr>\n",
       "      <th>3</th>\n",
       "      <td>1</td>\n",
       "      <td>1</td>\n",
       "      <td>67</td>\n",
       "    </tr>\n",
       "    <tr>\n",
       "      <th>4</th>\n",
       "      <td>2</td>\n",
       "      <td>0</td>\n",
       "      <td>205</td>\n",
       "    </tr>\n",
       "  </tbody>\n",
       "</table>\n",
       "</div>"
      ],
      "text/plain": [
       "   Pregnancies  Outcome  Count\n",
       "0            0        0    180\n",
       "1            0        1     67\n",
       "2            1        0    261\n",
       "3            1        1     67\n",
       "4            2        0    205"
      ]
     },
     "execution_count": 28,
     "metadata": {},
     "output_type": "execute_result"
    }
   ],
   "source": [
    "breakdownofpregnancies = data.groupby(['Pregnancies','Outcome']).size().reset_index(name ='Count')\n",
    "breakdownofpregnancies.head()"
   ]
  },
  {
   "cell_type": "code",
   "execution_count": 29,
   "id": "0f95c23e",
   "metadata": {},
   "outputs": [
    {
     "data": {
      "text/plain": [
       "(    Pregnancies  Outcome  Count\n",
       " 1             0        1     67\n",
       " 3             1        1     67\n",
       " 5             2        1     41\n",
       " 7             3        1     61\n",
       " 9             4        1     57\n",
       " 11            5        1     49\n",
       " 13            6        1     41\n",
       " 15            7        1     53\n",
       " 17            8        1     43\n",
       " 19            9        1     42\n",
       " 21           10        1     19\n",
       " 23           11        1     13\n",
       " 25           12        1     10\n",
       " 27           13        1     11,\n",
       "     Pregnancies  Outcome  Count\n",
       " 0             0        0    180\n",
       " 2             1        0    261\n",
       " 4             2        0    205\n",
       " 6             3        0    112\n",
       " 8             4        0    117\n",
       " 10            5        0     81\n",
       " 12            6        0     78\n",
       " 14            7        0     40\n",
       " 16            8        0     41\n",
       " 18            9        0     25\n",
       " 20           10        0     32\n",
       " 22           11        0      9\n",
       " 24           12        0     13\n",
       " 26           13        0      8)"
      ]
     },
     "execution_count": 29,
     "metadata": {},
     "output_type": "execute_result"
    }
   ],
   "source": [
    "breakdownofpregnanciesconfirm = breakdownofpregnancies[breakdownofpregnancies['Outcome'] == 1]\n",
    "breakdownofpregnancieshealthy = breakdownofpregnancies[breakdownofpregnancies['Outcome'] == 0]\n",
    "breakdownofpregnanciesconfirm,breakdownofpregnancieshealthy"
   ]
  },
  {
   "cell_type": "code",
   "execution_count": 30,
   "id": "39fa271f",
   "metadata": {},
   "outputs": [
    {
     "data": {
      "image/png": "[encoded data removed]",
      "text/plain": [
       "<Figure size 864x432 with 1 Axes>"
      ]
     },
     "metadata": {
      "needs_background": "light"
     },
     "output_type": "display_data"
    }
   ],
   "source": [
    "plt.figure(figsize = (12,6))\n",
    "labels=[\"Healty\",\"Diabetic\"]\n",
    "g = sns.barplot(x ='Pregnancies', y = 'Count', hue = 'Outcome', data = breakdownofpregnancieshealthy, palette = 'Greens')\n",
    "g = sns.barplot(x ='Pregnancies', y = 'Count', hue = 'Outcome', data = breakdownofpregnanciesconfirm, palette = 'Reds_r')\n",
    "h, l = g.get_legend_handles_labels()\n",
    "g.legend(h, labels, title=\"\")\n",
    "plt.title(\"Pregnancies Distribution\",size=18, **hfont)\n",
    "plt.savefig(\"Visualizations\\PregnanciesDistribution.png\")\n",
    "plt.show()"
   ]
  },
  {
   "cell_type": "markdown",
   "id": "bf84ceec",
   "metadata": {},
   "source": [
    "## FEATURE SELECTION"
   ]
  },
  {
   "cell_type": "code",
   "execution_count": 31,
   "id": "9b89fdb1",
   "metadata": {},
   "outputs": [
    {
     "data": {
      "text/html": [
       "<div>\n",
       "<style scoped>\n",
       "    .dataframe tbody tr th:only-of-type {\n",
       "        vertical-align: middle;\n",
       "    }\n",
       "\n",
       "    .dataframe tbody tr th {\n",
       "        vertical-align: top;\n",
       "    }\n",
       "\n",
       "    .dataframe thead th {\n",
       "        text-align: right;\n",
       "    }\n",
       "</style>\n",
       "<table border=\"1\" class=\"dataframe\">\n",
       "  <thead>\n",
       "    <tr style=\"text-align: right;\">\n",
       "      <th></th>\n",
       "      <th>Data_type</th>\n",
       "      <th>Total Value</th>\n",
       "      <th>Null_count</th>\n",
       "      <th>Unique_count</th>\n",
       "    </tr>\n",
       "  </thead>\n",
       "  <tbody>\n",
       "    <tr>\n",
       "      <th>Pregnancies</th>\n",
       "      <td>int64</td>\n",
       "      <td>1776</td>\n",
       "      <td>0</td>\n",
       "      <td>14</td>\n",
       "    </tr>\n",
       "    <tr>\n",
       "      <th>Glucose</th>\n",
       "      <td>int64</td>\n",
       "      <td>1776</td>\n",
       "      <td>0</td>\n",
       "      <td>131</td>\n",
       "    </tr>\n",
       "    <tr>\n",
       "      <th>BloodPressure</th>\n",
       "      <td>int64</td>\n",
       "      <td>1776</td>\n",
       "      <td>0</td>\n",
       "      <td>45</td>\n",
       "    </tr>\n",
       "    <tr>\n",
       "      <th>SkinThickness</th>\n",
       "      <td>int64</td>\n",
       "      <td>1776</td>\n",
       "      <td>0</td>\n",
       "      <td>50</td>\n",
       "    </tr>\n",
       "    <tr>\n",
       "      <th>Insulin</th>\n",
       "      <td>int64</td>\n",
       "      <td>1776</td>\n",
       "      <td>0</td>\n",
       "      <td>163</td>\n",
       "    </tr>\n",
       "    <tr>\n",
       "      <th>BMI</th>\n",
       "      <td>float64</td>\n",
       "      <td>1776</td>\n",
       "      <td>0</td>\n",
       "      <td>231</td>\n",
       "    </tr>\n",
       "    <tr>\n",
       "      <th>DiabetesPedigreeFunction</th>\n",
       "      <td>float64</td>\n",
       "      <td>1776</td>\n",
       "      <td>0</td>\n",
       "      <td>458</td>\n",
       "    </tr>\n",
       "    <tr>\n",
       "      <th>Age</th>\n",
       "      <td>int64</td>\n",
       "      <td>1776</td>\n",
       "      <td>0</td>\n",
       "      <td>48</td>\n",
       "    </tr>\n",
       "    <tr>\n",
       "      <th>Outcome</th>\n",
       "      <td>int64</td>\n",
       "      <td>1776</td>\n",
       "      <td>0</td>\n",
       "      <td>2</td>\n",
       "    </tr>\n",
       "    <tr>\n",
       "      <th>bmi_cat</th>\n",
       "      <td>category</td>\n",
       "      <td>1766</td>\n",
       "      <td>10</td>\n",
       "      <td>4</td>\n",
       "    </tr>\n",
       "    <tr>\n",
       "      <th>age_cat</th>\n",
       "      <td>category</td>\n",
       "      <td>1776</td>\n",
       "      <td>0</td>\n",
       "      <td>3</td>\n",
       "    </tr>\n",
       "    <tr>\n",
       "      <th>glucose_cat</th>\n",
       "      <td>category</td>\n",
       "      <td>1776</td>\n",
       "      <td>0</td>\n",
       "      <td>3</td>\n",
       "    </tr>\n",
       "  </tbody>\n",
       "</table>\n",
       "</div>"
      ],
      "text/plain": [
       "                         Data_type  Total Value  Null_count  Unique_count\n",
       "Pregnancies                  int64         1776           0            14\n",
       "Glucose                      int64         1776           0           131\n",
       "BloodPressure                int64         1776           0            45\n",
       "SkinThickness                int64         1776           0            50\n",
       "Insulin                      int64         1776           0           163\n",
       "BMI                        float64         1776           0           231\n",
       "DiabetesPedigreeFunction   float64         1776           0           458\n",
       "Age                          int64         1776           0            48\n",
       "Outcome                      int64         1776           0             2\n",
       "bmi_cat                   category         1766          10             4\n",
       "age_cat                   category         1776           0             3\n",
       "glucose_cat               category         1776           0             3"
      ]
     },
     "execution_count": 31,
     "metadata": {},
     "output_type": "execute_result"
    }
   ],
   "source": [
    "get_data_info()"
   ]
  },
  {
   "cell_type": "code",
   "execution_count": 32,
   "id": "e50b1b0f",
   "metadata": {},
   "outputs": [
    {
     "data": {
      "text/html": [
       "<div>\n",
       "<style scoped>\n",
       "    .dataframe tbody tr th:only-of-type {\n",
       "        vertical-align: middle;\n",
       "    }\n",
       "\n",
       "    .dataframe tbody tr th {\n",
       "        vertical-align: top;\n",
       "    }\n",
       "\n",
       "    .dataframe thead th {\n",
       "        text-align: right;\n",
       "    }\n",
       "</style>\n",
       "<table border=\"1\" class=\"dataframe\">\n",
       "  <thead>\n",
       "    <tr style=\"text-align: right;\">\n",
       "      <th></th>\n",
       "      <th>Pregnancies</th>\n",
       "      <th>Glucose</th>\n",
       "      <th>BloodPressure</th>\n",
       "      <th>SkinThickness</th>\n",
       "      <th>Insulin</th>\n",
       "      <th>BMI</th>\n",
       "      <th>DiabetesPedigreeFunction</th>\n",
       "      <th>Age</th>\n",
       "    </tr>\n",
       "  </thead>\n",
       "  <tbody>\n",
       "    <tr>\n",
       "      <th>0</th>\n",
       "      <td>2</td>\n",
       "      <td>138</td>\n",
       "      <td>62</td>\n",
       "      <td>35</td>\n",
       "      <td>0</td>\n",
       "      <td>33.6</td>\n",
       "      <td>0.127</td>\n",
       "      <td>47</td>\n",
       "    </tr>\n",
       "    <tr>\n",
       "      <th>1</th>\n",
       "      <td>0</td>\n",
       "      <td>84</td>\n",
       "      <td>82</td>\n",
       "      <td>31</td>\n",
       "      <td>125</td>\n",
       "      <td>38.2</td>\n",
       "      <td>0.233</td>\n",
       "      <td>23</td>\n",
       "    </tr>\n",
       "    <tr>\n",
       "      <th>3</th>\n",
       "      <td>0</td>\n",
       "      <td>135</td>\n",
       "      <td>68</td>\n",
       "      <td>42</td>\n",
       "      <td>250</td>\n",
       "      <td>42.3</td>\n",
       "      <td>0.365</td>\n",
       "      <td>24</td>\n",
       "    </tr>\n",
       "    <tr>\n",
       "      <th>5</th>\n",
       "      <td>0</td>\n",
       "      <td>173</td>\n",
       "      <td>78</td>\n",
       "      <td>32</td>\n",
       "      <td>265</td>\n",
       "      <td>46.5</td>\n",
       "      <td>1.159</td>\n",
       "      <td>58</td>\n",
       "    </tr>\n",
       "    <tr>\n",
       "      <th>6</th>\n",
       "      <td>4</td>\n",
       "      <td>99</td>\n",
       "      <td>72</td>\n",
       "      <td>17</td>\n",
       "      <td>0</td>\n",
       "      <td>25.6</td>\n",
       "      <td>0.294</td>\n",
       "      <td>28</td>\n",
       "    </tr>\n",
       "    <tr>\n",
       "      <th>...</th>\n",
       "      <td>...</td>\n",
       "      <td>...</td>\n",
       "      <td>...</td>\n",
       "      <td>...</td>\n",
       "      <td>...</td>\n",
       "      <td>...</td>\n",
       "      <td>...</td>\n",
       "      <td>...</td>\n",
       "    </tr>\n",
       "    <tr>\n",
       "      <th>1994</th>\n",
       "      <td>1</td>\n",
       "      <td>79</td>\n",
       "      <td>60</td>\n",
       "      <td>42</td>\n",
       "      <td>48</td>\n",
       "      <td>43.5</td>\n",
       "      <td>0.678</td>\n",
       "      <td>23</td>\n",
       "    </tr>\n",
       "    <tr>\n",
       "      <th>1995</th>\n",
       "      <td>2</td>\n",
       "      <td>75</td>\n",
       "      <td>64</td>\n",
       "      <td>24</td>\n",
       "      <td>55</td>\n",
       "      <td>29.7</td>\n",
       "      <td>0.370</td>\n",
       "      <td>33</td>\n",
       "    </tr>\n",
       "    <tr>\n",
       "      <th>1996</th>\n",
       "      <td>8</td>\n",
       "      <td>179</td>\n",
       "      <td>72</td>\n",
       "      <td>42</td>\n",
       "      <td>130</td>\n",
       "      <td>32.7</td>\n",
       "      <td>0.719</td>\n",
       "      <td>36</td>\n",
       "    </tr>\n",
       "    <tr>\n",
       "      <th>1997</th>\n",
       "      <td>6</td>\n",
       "      <td>85</td>\n",
       "      <td>78</td>\n",
       "      <td>0</td>\n",
       "      <td>0</td>\n",
       "      <td>31.2</td>\n",
       "      <td>0.382</td>\n",
       "      <td>42</td>\n",
       "    </tr>\n",
       "    <tr>\n",
       "      <th>1999</th>\n",
       "      <td>2</td>\n",
       "      <td>81</td>\n",
       "      <td>72</td>\n",
       "      <td>15</td>\n",
       "      <td>76</td>\n",
       "      <td>30.1</td>\n",
       "      <td>0.547</td>\n",
       "      <td>25</td>\n",
       "    </tr>\n",
       "  </tbody>\n",
       "</table>\n",
       "<p>1776 rows × 8 columns</p>\n",
       "</div>"
      ],
      "text/plain": [
       "      Pregnancies  Glucose  BloodPressure  SkinThickness  Insulin   BMI  \\\n",
       "0               2      138             62             35        0  33.6   \n",
       "1               0       84             82             31      125  38.2   \n",
       "3               0      135             68             42      250  42.3   \n",
       "5               0      173             78             32      265  46.5   \n",
       "6               4       99             72             17        0  25.6   \n",
       "...           ...      ...            ...            ...      ...   ...   \n",
       "1994            1       79             60             42       48  43.5   \n",
       "1995            2       75             64             24       55  29.7   \n",
       "1996            8      179             72             42      130  32.7   \n",
       "1997            6       85             78              0        0  31.2   \n",
       "1999            2       81             72             15       76  30.1   \n",
       "\n",
       "      DiabetesPedigreeFunction  Age  \n",
       "0                        0.127   47  \n",
       "1                        0.233   23  \n",
       "3                        0.365   24  \n",
       "5                        1.159   58  \n",
       "6                        0.294   28  \n",
       "...                        ...  ...  \n",
       "1994                     0.678   23  \n",
       "1995                     0.370   33  \n",
       "1996                     0.719   36  \n",
       "1997                     0.382   42  \n",
       "1999                     0.547   25  \n",
       "\n",
       "[1776 rows x 8 columns]"
      ]
     },
     "execution_count": 32,
     "metadata": {},
     "output_type": "execute_result"
    }
   ],
   "source": [
    "X = data.drop(['bmi_cat','age_cat','glucose_cat','Outcome'],axis='columns')\n",
    "X"
   ]
  },
  {
   "cell_type": "code",
   "execution_count": 33,
   "id": "a4545080",
   "metadata": {},
   "outputs": [],
   "source": [
    "y = data.Outcome"
   ]
  },
  {
   "cell_type": "markdown",
   "id": "33654de9",
   "metadata": {},
   "source": [
    "### HYPERPARAMETER TUNING"
   ]
  },
  {
   "cell_type": "code",
   "execution_count": 34,
   "id": "073b9d51",
   "metadata": {},
   "outputs": [],
   "source": [
    "# We do this to get the best algorithm and the bestparameters to use for our dataset"
   ]
  },
  {
   "cell_type": "code",
   "execution_count": 35,
   "id": "ddd91f22",
   "metadata": {},
   "outputs": [],
   "source": [
    "#Python Dictionary with 3 supervised models and parameters to choose the best Models and Parameters to use.\n",
    "\n",
    "models = {\n",
    "    'Random_forest':{\n",
    "        'model' : RandomForestClassifier(),\n",
    "        'params' : {\n",
    "            'n_estimators': [1,5,100],\n",
    "            'n_jobs': [1,10,20],\n",
    "            'random_state': [1,2,10]\n",
    "        }\n",
    "    },\n",
    "    'Logistic_regression' :{\n",
    "        'model' : LogisticRegression(),\n",
    "        'params': {\n",
    "            'C': [1,5,10],\n",
    "            'solver':['liblinear','saga'],\n",
    "            'multi_class':['auto'],\n",
    "            'random_state': [1,2,10],\n",
    "            'penalty': ['l1','l2','elasticnet','none']\n",
    "        }\n",
    "    },\n",
    "    'K_Nearest_Neighbour' :{\n",
    "        'model' : KNeighborsClassifier(),\n",
    "        'params' :{\n",
    "            'n_neighbors': [1,5,10],\n",
    "            'algorithm': [\"auto\", \"brute\", \"kd_tree\", \"ball_tree\"],\n",
    "            'weights': ['uniform','distance'],\n",
    "            'n_jobs' : [1,10,20]\n",
    "        }\n",
    "    },\n",
    "   \n",
    "}"
   ]
  },
  {
   "cell_type": "code",
   "execution_count": 36,
   "id": "fb1942b7",
   "metadata": {},
   "outputs": [],
   "source": [
    "scores = []\n",
    "\n",
    "for modelName,mp in models.items():\n",
    "    X_train,X_test,y_train,y_test = train_test_split(X,y,test_size=0.2,random_state=1,stratify=y)\n",
    "    sm = SMOTE(random_state=0)\n",
    "    X_train,y_train = sm.fit_resample(X_train,y_train)\n",
    "    scaler = StandardScaler()\n",
    "    X_train = scaler.fit_transform(X_train)\n",
    "    X_test = scaler.transform(X_test)\n",
    "    rs = GridSearchCV(mp['model'],mp['params'],cv=5,return_train_score=False)\n",
    "    rs.fit(X_train,y_train)\n",
    "    scores.append({\n",
    "        'Model': modelName,\n",
    "        'Best_Score': rs.best_score_,\n",
    "        'Best_Parameters':rs.best_params_\n",
    "    })"
   ]
  },
  {
   "cell_type": "code",
   "execution_count": 37,
   "id": "617f6603",
   "metadata": {},
   "outputs": [
    {
     "data": {
      "text/html": [
       "<div>\n",
       "<style scoped>\n",
       "    .dataframe tbody tr th:only-of-type {\n",
       "        vertical-align: middle;\n",
       "    }\n",
       "\n",
       "    .dataframe tbody tr th {\n",
       "        vertical-align: top;\n",
       "    }\n",
       "\n",
       "    .dataframe thead th {\n",
       "        text-align: right;\n",
       "    }\n",
       "</style>\n",
       "<table border=\"1\" class=\"dataframe\">\n",
       "  <thead>\n",
       "    <tr style=\"text-align: right;\">\n",
       "      <th></th>\n",
       "      <th>Model</th>\n",
       "      <th>Best_Score</th>\n",
       "      <th>Best_Parameters</th>\n",
       "    </tr>\n",
       "  </thead>\n",
       "  <tbody>\n",
       "    <tr>\n",
       "      <th>0</th>\n",
       "      <td>Random_forest</td>\n",
       "      <td>0.958896</td>\n",
       "      <td>{'n_estimators': 100, 'n_jobs': 1, 'random_state': 1}</td>\n",
       "    </tr>\n",
       "    <tr>\n",
       "      <th>2</th>\n",
       "      <td>K_Nearest_Neighbour</td>\n",
       "      <td>0.956297</td>\n",
       "      <td>{'algorithm': 'auto', 'n_jobs': 1, 'n_neighbors': 1, 'weights': 'uniform'}</td>\n",
       "    </tr>\n",
       "    <tr>\n",
       "      <th>1</th>\n",
       "      <td>Logistic_regression</td>\n",
       "      <td>0.745586</td>\n",
       "      <td>{'C': 1, 'multi_class': 'auto', 'penalty': 'l2', 'random_state': 1, 'solver': 'liblinear'}</td>\n",
       "    </tr>\n",
       "  </tbody>\n",
       "</table>\n",
       "</div>"
      ],
      "text/plain": [
       "                 Model  Best_Score  \\\n",
       "0        Random_forest    0.958896   \n",
       "2  K_Nearest_Neighbour    0.956297   \n",
       "1  Logistic_regression    0.745586   \n",
       "\n",
       "                                                                              Best_Parameters  \n",
       "0                                       {'n_estimators': 100, 'n_jobs': 1, 'random_state': 1}  \n",
       "2                  {'algorithm': 'auto', 'n_jobs': 1, 'n_neighbors': 1, 'weights': 'uniform'}  \n",
       "1  {'C': 1, 'multi_class': 'auto', 'penalty': 'l2', 'random_state': 1, 'solver': 'liblinear'}  "
      ]
     },
     "execution_count": 37,
     "metadata": {},
     "output_type": "execute_result"
    }
   ],
   "source": [
    "pd.options.display.max_colwidth = 200\n",
    "scoresdf = pd.DataFrame(scores,columns=['Model','Best_Score','Best_Parameters'])\n",
    "scoresdf.sort_values(by='Best_Score',ascending=False, inplace=True)\n",
    "scoresdf"
   ]
  },
  {
   "cell_type": "markdown",
   "id": "33b96170",
   "metadata": {},
   "source": [
    "## 1. RANDOM FOREST"
   ]
  },
  {
   "cell_type": "code",
   "execution_count": 38,
   "id": "a84c7060",
   "metadata": {},
   "outputs": [],
   "source": [
    "#Split X and y into train and test data using the sklearn library train_test_split\n",
    "# Split proportion is 80% train data and 20% test data\n",
    "X_train,X_test,y_train,y_test = train_test_split(X,y,test_size=0.2,random_state=1,stratify=y)"
   ]
  },
  {
   "cell_type": "code",
   "execution_count": 39,
   "id": "f4ad4bd0",
   "metadata": {},
   "outputs": [
    {
     "data": {
      "text/plain": [
       "((1420, 8), (356, 8), (1420,), (356,))"
      ]
     },
     "execution_count": 39,
     "metadata": {},
     "output_type": "execute_result"
    }
   ],
   "source": [
    "X_train.shape,X_test.shape,y_train.shape,y_test.shape"
   ]
  },
  {
   "cell_type": "code",
   "execution_count": 40,
   "id": "671e632b",
   "metadata": {},
   "outputs": [],
   "source": [
    "# There is an imbalance in the dataset, so we need to handle the data by calling the library SMOTE, it helps us deal with\n",
    "# the inbalance in the dataset. \n",
    "# Creating an object of SMOTE\n",
    "sm = SMOTE(random_state=0)\n",
    "\n",
    "# So we call SMOTE on our X_train and y_train\n",
    "X_train,y_train = sm.fit_resample(X_train,y_train)"
   ]
  },
  {
   "cell_type": "code",
   "execution_count": 41,
   "id": "7c54fe68",
   "metadata": {},
   "outputs": [],
   "source": [
    "# We scale our data using the StandardScaler\n",
    "# Create an object of StandardScaler\n",
    "sc = StandardScaler()\n",
    "# Call fit_transform on the X_train alone and call transform on X_test. \n",
    "X_train = sc.fit_transform(X_train)\n",
    "X_test = sc.transform(X_test) "
   ]
  },
  {
   "cell_type": "code",
   "execution_count": 42,
   "id": "e53e7cac",
   "metadata": {},
   "outputs": [
    {
     "data": {
      "text/plain": [
       "RandomForestClassifier(n_jobs=1, random_state=2)"
      ]
     },
     "execution_count": 42,
     "metadata": {},
     "output_type": "execute_result"
    }
   ],
   "source": [
    "# Create a object of our model Random Forest\n",
    "model = RandomForestClassifier(n_estimators= 100,n_jobs= 1,random_state= 2)\n",
    "# Call a fit method on your model with your X_train and y_train\n",
    "model.fit(X_train,y_train)"
   ]
  },
  {
   "cell_type": "code",
   "execution_count": 43,
   "id": "db62191d",
   "metadata": {},
   "outputs": [
    {
     "data": {
      "text/plain": [
       "0.9831460674157303"
      ]
     },
     "execution_count": 43,
     "metadata": {},
     "output_type": "execute_result"
    }
   ],
   "source": [
    "# Get Model Score \n",
    "score = model.score(X_test,y_test)\n",
    "score"
   ]
  },
  {
   "cell_type": "code",
   "execution_count": 44,
   "id": "337ffdf9",
   "metadata": {},
   "outputs": [
    {
     "data": {
      "text/plain": [
       "array([1, 0, 0, 0, 1, 0, 1, 1, 0, 1, 0, 0, 1, 1, 0, 0, 0, 0, 0, 1, 1, 0,\n",
       "       1, 1, 0, 0, 0, 0, 0, 1, 0, 0, 1, 1, 0, 0, 1, 1, 1, 0, 1, 0, 0, 0,\n",
       "       1, 1, 1, 1, 0, 1, 0, 0, 1, 0, 0, 1, 0, 0, 0, 0, 0, 0, 0, 0, 0, 0,\n",
       "       0, 0, 0, 1, 0, 1, 0, 1, 0, 1, 0, 0, 1, 0, 0, 0, 0, 1, 0, 1, 1, 1,\n",
       "       1, 0, 0, 0, 1, 0, 0, 0, 0, 1, 0, 0, 0, 0, 0, 1, 0, 0, 1, 0, 0, 0,\n",
       "       0, 0, 0, 0, 0, 0, 0, 1, 0, 0, 1, 1, 0, 0, 0, 1, 0, 1, 1, 0, 1, 0,\n",
       "       0, 1, 0, 0, 0, 0, 1, 0, 0, 0, 1, 0, 1, 0, 0, 0, 0, 1, 0, 1, 0, 0,\n",
       "       0, 0, 0, 0, 1, 0, 0, 0, 0, 0, 0, 0, 0, 0, 0, 0, 1, 1, 0, 1, 0, 1,\n",
       "       0, 0, 1, 0, 0, 0, 0, 1, 0, 1, 1, 1, 0, 0, 0, 0, 1, 0, 1, 0, 0, 1,\n",
       "       0, 1, 0, 1, 0, 0, 0, 1, 1, 0, 1, 1, 0, 1, 0, 0, 1, 0, 0, 0, 0, 0,\n",
       "       0, 0, 0, 0, 0, 1, 0, 0, 1, 1, 1, 0, 0, 0, 0, 0, 1, 1, 0, 0, 0, 1,\n",
       "       0, 1, 0, 0, 0, 0, 0, 0, 0, 0, 1, 1, 0, 0, 1, 0, 0, 1, 0, 0, 0, 0,\n",
       "       1, 1, 0, 0, 0, 1, 1, 0, 1, 0, 0, 0, 1, 0, 1, 1, 0, 0, 0, 0, 0, 0,\n",
       "       0, 0, 0, 0, 1, 0, 1, 1, 0, 0, 0, 1, 0, 1, 1, 0, 1, 0, 1, 0, 0, 0,\n",
       "       0, 0, 0, 1, 1, 0, 0, 1, 0, 1, 0, 0, 0, 1, 1, 0, 0, 0, 0, 0, 0, 1,\n",
       "       0, 0, 0, 1, 0, 0, 1, 0, 1, 0, 0, 0, 0, 0, 0, 0, 1, 0, 1, 1, 0, 1,\n",
       "       1, 1, 0, 0], dtype=int64)"
      ]
     },
     "execution_count": 44,
     "metadata": {},
     "output_type": "execute_result"
    }
   ],
   "source": [
    "# Get Predicted Value\n",
    "prediction = model.predict(X_test)\n",
    "prediction"
   ]
  },
  {
   "cell_type": "code",
   "execution_count": 45,
   "id": "1070205b",
   "metadata": {},
   "outputs": [
    {
     "data": {
      "text/plain": [
       "0.9658119658119658"
      ]
     },
     "execution_count": 45,
     "metadata": {},
     "output_type": "execute_result"
    }
   ],
   "source": [
    "# Get Model Precition Score\n",
    "model_precision = precision_score(y_test,prediction)\n",
    "model_precision"
   ]
  },
  {
   "cell_type": "code",
   "execution_count": 46,
   "id": "da8df2af",
   "metadata": {},
   "outputs": [
    {
     "data": {
      "text/plain": [
       "0.9826086956521739"
      ]
     },
     "execution_count": 46,
     "metadata": {},
     "output_type": "execute_result"
    }
   ],
   "source": [
    "recall = recall_score(y_test,prediction)\n",
    "recall"
   ]
  },
  {
   "cell_type": "code",
   "execution_count": 47,
   "id": "a12bd834",
   "metadata": {},
   "outputs": [
    {
     "data": {
      "text/plain": [
       "0.9741379310344828"
      ]
     },
     "execution_count": 47,
     "metadata": {},
     "output_type": "execute_result"
    }
   ],
   "source": [
    "F1 = f1_score(y_test,prediction)\n",
    "F1"
   ]
  },
  {
   "cell_type": "code",
   "execution_count": 48,
   "id": "8e123782",
   "metadata": {},
   "outputs": [
    {
     "data": {
      "image/png": "[encoded data removed]",
      "text/plain": [
       "<Figure size 720x576 with 2 Axes>"
      ]
     },
     "metadata": {
      "needs_background": "light"
     },
     "output_type": "display_data"
    }
   ],
   "source": [
    "# Confusion Matrics\n",
    "y_pred = model.predict(X_test)\n",
    "matrix = confusion_matrix(y_pred, y_test)\n",
    "\n",
    "df_cm = pd.DataFrame(matrix, index = ['Diabetes', 'Normal'],\n",
    "                            columns = ['Diabetes', 'Normal'])\n",
    "plt.figure(figsize = (10,8))\n",
    "sns.heatmap(df_cm,\n",
    "            annot=True,\n",
    "            fmt='.5g',\n",
    "            annot_kws={\"size\": 20}).set_title('Confusion matrix', fontsize = 35, y=1.05, **hfont)\n",
    "plt.xlabel('Predicted values', fontsize = 20, **hfont)\n",
    "plt.ylabel('True values', fontsize = 20, **hfont)\n",
    "plt.savefig(\"Visualizations\\RandomForestConfusionMetrics.png\")\n",
    "plt.show()"
   ]
  },
  {
   "cell_type": "code",
   "execution_count": 49,
   "id": "8d644976",
   "metadata": {},
   "outputs": [],
   "source": [
    "modelResultsRT = ({\n",
    "    'Model Name': 'Random Forest',\n",
    "    'Model Score': score*100,\n",
    "    'F1 Score': F1 * 100,\n",
    "    'Precision Score': model_precision * 100\n",
    "})"
   ]
  },
  {
   "cell_type": "markdown",
   "id": "a1482415",
   "metadata": {},
   "source": [
    "## 2. K Nearest Neighbour"
   ]
  },
  {
   "cell_type": "code",
   "execution_count": 50,
   "id": "1cf666c6",
   "metadata": {},
   "outputs": [],
   "source": [
    "#Split X and y into train and test data using the sklearn library train_test_split\n",
    "# Split proportion is 80% train data and 20% test data\n",
    "X_train,X_test,y_train,y_test = train_test_split(X,y,test_size=0.2,random_state=1,stratify=y)"
   ]
  },
  {
   "cell_type": "code",
   "execution_count": 51,
   "id": "e230eb15",
   "metadata": {},
   "outputs": [
    {
     "data": {
      "text/plain": [
       "((1420, 8), (356, 8), (1420,), (356,))"
      ]
     },
     "execution_count": 51,
     "metadata": {},
     "output_type": "execute_result"
    }
   ],
   "source": [
    "X_train.shape,X_test.shape,y_train.shape,y_test.shape"
   ]
  },
  {
   "cell_type": "code",
   "execution_count": 52,
   "id": "1288013e",
   "metadata": {},
   "outputs": [],
   "source": [
    "# There is an imbalance in the dataset, so we need to handle the data by calling the library SMOTE, it helps us deal with\n",
    "# the inbalance in the dataset. \n",
    "# Creating an object of SMOTE\n",
    "sm = SMOTE(random_state=0)\n",
    "\n",
    "# So we call SMOTE on our X_train and y_train\n",
    "X_train,y_train = sm.fit_resample(X_train,y_train)"
   ]
  },
  {
   "cell_type": "code",
   "execution_count": 53,
   "id": "87eea383",
   "metadata": {},
   "outputs": [],
   "source": [
    "# We scale our data using the StandardScaler\n",
    "# Create an object of StandardScaler\n",
    "sc = StandardScaler()\n",
    "# Call fit_transform on the X_train alone and call transform on X_test. \n",
    "X_train = sc.fit_transform(X_train)\n",
    "X_test = sc.transform(X_test) "
   ]
  },
  {
   "cell_type": "code",
   "execution_count": 54,
   "id": "b759c979",
   "metadata": {},
   "outputs": [
    {
     "data": {
      "text/plain": [
       "KNeighborsClassifier(n_jobs=1, n_neighbors=10, weights='distance')"
      ]
     },
     "execution_count": 54,
     "metadata": {},
     "output_type": "execute_result"
    }
   ],
   "source": [
    "# Create a object of our model Random Forest\n",
    "model = KNeighborsClassifier(algorithm='auto',n_jobs= 1,n_neighbors= 10,weights='distance')\n",
    "# Call a fit method on your model with your X_train and y_train\n",
    "model.fit(X_train,y_train)"
   ]
  },
  {
   "cell_type": "code",
   "execution_count": 55,
   "id": "a5b6372e",
   "metadata": {},
   "outputs": [
    {
     "data": {
      "text/plain": [
       "0.9747191011235955"
      ]
     },
     "execution_count": 55,
     "metadata": {},
     "output_type": "execute_result"
    }
   ],
   "source": [
    "# Get Model Score \n",
    "score = model.score(X_test,y_test)\n",
    "score"
   ]
  },
  {
   "cell_type": "code",
   "execution_count": 56,
   "id": "b6a3e48c",
   "metadata": {},
   "outputs": [
    {
     "data": {
      "text/plain": [
       "array([1, 0, 0, 0, 1, 0, 1, 1, 0, 1, 0, 0, 1, 1, 0, 0, 0, 0, 0, 1, 1, 0,\n",
       "       1, 1, 0, 0, 0, 0, 0, 1, 0, 0, 1, 1, 0, 0, 1, 1, 1, 0, 1, 0, 0, 0,\n",
       "       1, 1, 1, 1, 0, 1, 0, 0, 1, 0, 0, 1, 0, 0, 1, 0, 0, 0, 0, 1, 0, 0,\n",
       "       0, 0, 0, 1, 0, 1, 0, 1, 0, 1, 0, 0, 0, 0, 0, 0, 0, 1, 0, 1, 1, 1,\n",
       "       1, 0, 0, 0, 1, 0, 0, 0, 0, 1, 0, 0, 0, 0, 0, 1, 1, 0, 0, 0, 0, 0,\n",
       "       0, 0, 0, 0, 0, 0, 0, 1, 0, 0, 1, 1, 0, 0, 0, 1, 0, 1, 1, 0, 1, 0,\n",
       "       0, 1, 0, 0, 0, 0, 1, 0, 0, 0, 1, 0, 1, 0, 0, 0, 0, 1, 0, 1, 0, 0,\n",
       "       0, 0, 0, 0, 1, 0, 0, 0, 0, 0, 0, 0, 0, 0, 0, 0, 1, 1, 0, 1, 0, 1,\n",
       "       0, 0, 1, 0, 0, 0, 0, 1, 0, 1, 1, 1, 0, 0, 0, 0, 1, 0, 1, 0, 0, 1,\n",
       "       0, 1, 0, 1, 0, 0, 0, 1, 1, 0, 1, 1, 0, 1, 0, 0, 1, 0, 0, 0, 0, 0,\n",
       "       0, 0, 0, 0, 0, 1, 0, 0, 1, 1, 1, 0, 0, 0, 0, 0, 1, 0, 0, 0, 0, 1,\n",
       "       0, 1, 0, 0, 0, 0, 0, 0, 0, 0, 1, 1, 0, 1, 1, 0, 0, 1, 0, 0, 0, 0,\n",
       "       1, 1, 0, 0, 0, 1, 1, 0, 1, 0, 0, 0, 1, 0, 1, 1, 0, 0, 0, 0, 0, 0,\n",
       "       0, 0, 0, 1, 1, 0, 1, 1, 0, 0, 0, 1, 0, 1, 1, 0, 1, 0, 1, 0, 0, 1,\n",
       "       0, 0, 0, 1, 1, 0, 0, 1, 0, 1, 0, 0, 0, 1, 1, 0, 0, 0, 1, 0, 0, 1,\n",
       "       0, 0, 0, 1, 0, 0, 0, 0, 1, 0, 0, 0, 0, 0, 0, 0, 1, 0, 1, 1, 0, 1,\n",
       "       1, 1, 0, 0], dtype=int64)"
      ]
     },
     "execution_count": 56,
     "metadata": {},
     "output_type": "execute_result"
    }
   ],
   "source": [
    "# Get Predicted Value\n",
    "prediction = model.predict(X_test)\n",
    "prediction"
   ]
  },
  {
   "cell_type": "code",
   "execution_count": 57,
   "id": "bd19311e",
   "metadata": {},
   "outputs": [
    {
     "data": {
      "text/plain": [
       "0.9416666666666667"
      ]
     },
     "execution_count": 57,
     "metadata": {},
     "output_type": "execute_result"
    }
   ],
   "source": [
    "# Get Model Precition Score\n",
    "model_precision = precision_score(y_test,prediction)\n",
    "model_precision"
   ]
  },
  {
   "cell_type": "code",
   "execution_count": 58,
   "id": "372b9ca1",
   "metadata": {},
   "outputs": [
    {
     "data": {
      "text/plain": [
       "0.9826086956521739"
      ]
     },
     "execution_count": 58,
     "metadata": {},
     "output_type": "execute_result"
    }
   ],
   "source": [
    "recall = recall_score(y_test,prediction)\n",
    "recall"
   ]
  },
  {
   "cell_type": "code",
   "execution_count": 59,
   "id": "87308c51",
   "metadata": {},
   "outputs": [
    {
     "data": {
      "text/plain": [
       "0.9617021276595745"
      ]
     },
     "execution_count": 59,
     "metadata": {},
     "output_type": "execute_result"
    }
   ],
   "source": [
    "F1 = f1_score(y_test,prediction)\n",
    "F1"
   ]
  },
  {
   "cell_type": "code",
   "execution_count": 60,
   "id": "3ca9b0bb",
   "metadata": {},
   "outputs": [
    {
     "data": {
      "image/png": "[encoded data removed]",
      "text/plain": [
       "<Figure size 864x576 with 2 Axes>"
      ]
     },
     "metadata": {
      "needs_background": "light"
     },
     "output_type": "display_data"
    }
   ],
   "source": [
    "# Confusion Matrics\n",
    "y_pred = model.predict(X_test)\n",
    "matrix = confusion_matrix(y_pred, y_test)\n",
    "\n",
    "df_cm = pd.DataFrame(matrix, index = ['Diabetes', 'Normal'],\n",
    "                            columns = ['Diabetes', 'Normal'])\n",
    "plt.figure(figsize = (12,8))\n",
    "sns.heatmap(df_cm,\n",
    "            annot=True,\n",
    "            fmt='.5g',\n",
    "            annot_kws={\"size\": 20}).set_title('Confusion matrix', fontsize = 35, y=1.05, **hfont)\n",
    "plt.xlabel('Predicted values', fontsize = 20, **hfont)\n",
    "plt.ylabel('True values', fontsize = 20, **hfont)\n",
    "plt.savefig(\"Visualizations\\KNNConfusionMetrics.png\")\n",
    "plt.show()"
   ]
  },
  {
   "cell_type": "code",
   "execution_count": 61,
   "id": "3a092eee",
   "metadata": {},
   "outputs": [],
   "source": [
    "modelResultsKN = ({\n",
    "    'Model Name': 'KNN',\n",
    "    'Model Score': score*100,\n",
    "    'F1 Score': F1 * 100,\n",
    "    'Precision Score': model_precision * 100\n",
    "})"
   ]
  },
  {
   "cell_type": "markdown",
   "id": "a5050ff9",
   "metadata": {},
   "source": [
    "## 3. Logistic Regression"
   ]
  },
  {
   "cell_type": "code",
   "execution_count": 62,
   "id": "d3dfdefb",
   "metadata": {},
   "outputs": [],
   "source": [
    "#Split X and y into train and test data using the sklearn library train_test_split\n",
    "# Split proportion is 80% train data and 20% test data\n",
    "X_train,X_test,y_train,y_test = train_test_split(X,y,test_size=0.2,random_state=1,stratify=y)"
   ]
  },
  {
   "cell_type": "code",
   "execution_count": 63,
   "id": "1220dbd9",
   "metadata": {},
   "outputs": [
    {
     "data": {
      "text/plain": [
       "((1420, 8), (356, 8), (1420,), (356,))"
      ]
     },
     "execution_count": 63,
     "metadata": {},
     "output_type": "execute_result"
    }
   ],
   "source": [
    "X_train.shape,X_test.shape,y_train.shape,y_test.shape"
   ]
  },
  {
   "cell_type": "code",
   "execution_count": 64,
   "id": "303b036e",
   "metadata": {},
   "outputs": [],
   "source": [
    "# There is an imbalance in the dataset, so we need to handle the data by calling the library SMOTE, it helps us deal with\n",
    "# the inbalance in the dataset. \n",
    "# Creating an object of SMOTE\n",
    "sm = SMOTE(random_state=0)\n",
    "\n",
    "# So we call SMOTE on our X_train and y_train\n",
    "X_train,y_train = sm.fit_resample(X_train,y_train)"
   ]
  },
  {
   "cell_type": "code",
   "execution_count": 65,
   "id": "63cfff5d",
   "metadata": {},
   "outputs": [],
   "source": [
    "# We scale our data using the StandardScaler\n",
    "# Create an object of StandardScaler\n",
    "sc = StandardScaler()\n",
    "# Call fit_transform on the X_train alone and call transform on X_test. \n",
    "X_train = sc.fit_transform(X_train)\n",
    "X_test = sc.transform(X_test) "
   ]
  },
  {
   "cell_type": "code",
   "execution_count": 66,
   "id": "3b15375b",
   "metadata": {},
   "outputs": [
    {
     "data": {
      "text/plain": [
       "LogisticRegression(C=1, penalty='none', random_state=1, solver='saga')"
      ]
     },
     "execution_count": 66,
     "metadata": {},
     "output_type": "execute_result"
    }
   ],
   "source": [
    "# Create a object of our model\n",
    "model = LogisticRegression(C= 1,multi_class= 'auto',penalty='none',random_state=1,solver='saga')\n",
    "# Call a fit method on your model with your X_train and y_train\n",
    "model.fit(X_train,y_train)"
   ]
  },
  {
   "cell_type": "code",
   "execution_count": 67,
   "id": "79547b0e",
   "metadata": {},
   "outputs": [
    {
     "data": {
      "text/plain": [
       "0.7780898876404494"
      ]
     },
     "execution_count": 67,
     "metadata": {},
     "output_type": "execute_result"
    }
   ],
   "source": [
    "# Get Model Score \n",
    "score = model.score(X_test,y_test)\n",
    "score"
   ]
  },
  {
   "cell_type": "code",
   "execution_count": 68,
   "id": "a7dc9863",
   "metadata": {},
   "outputs": [
    {
     "data": {
      "text/plain": [
       "array([0, 0, 1, 0, 0, 0, 1, 1, 0, 1, 0, 0, 1, 1, 0, 0, 0, 0, 0, 1, 1, 0,\n",
       "       1, 0, 0, 0, 0, 0, 0, 1, 1, 0, 1, 1, 0, 0, 1, 1, 1, 1, 1, 0, 0, 0,\n",
       "       1, 1, 1, 1, 1, 1, 0, 0, 0, 0, 1, 0, 1, 0, 0, 0, 0, 0, 0, 1, 1, 0,\n",
       "       1, 0, 0, 1, 0, 0, 0, 1, 0, 1, 0, 0, 0, 0, 0, 0, 0, 1, 0, 0, 1, 1,\n",
       "       1, 0, 1, 0, 1, 0, 0, 0, 0, 0, 0, 0, 0, 1, 1, 0, 1, 0, 0, 0, 0, 0,\n",
       "       1, 1, 1, 0, 0, 0, 0, 1, 0, 0, 1, 1, 0, 0, 0, 1, 0, 0, 1, 0, 1, 1,\n",
       "       1, 0, 0, 1, 0, 0, 1, 0, 0, 0, 1, 0, 1, 0, 0, 0, 0, 1, 0, 1, 0, 1,\n",
       "       0, 0, 0, 0, 1, 0, 1, 0, 1, 0, 0, 0, 0, 0, 0, 1, 0, 0, 0, 1, 0, 1,\n",
       "       0, 0, 1, 0, 1, 0, 1, 1, 0, 1, 0, 0, 1, 0, 1, 0, 1, 0, 1, 0, 1, 1,\n",
       "       0, 1, 0, 1, 1, 1, 0, 1, 1, 0, 1, 1, 0, 0, 1, 1, 1, 0, 0, 0, 0, 1,\n",
       "       0, 0, 0, 0, 0, 0, 1, 0, 0, 1, 1, 0, 0, 0, 0, 0, 1, 0, 0, 0, 0, 0,\n",
       "       0, 1, 0, 0, 0, 0, 0, 0, 0, 0, 1, 1, 1, 0, 1, 0, 1, 1, 0, 0, 0, 0,\n",
       "       0, 0, 1, 0, 0, 0, 1, 0, 0, 0, 1, 0, 1, 1, 1, 1, 0, 1, 0, 0, 0, 0,\n",
       "       0, 0, 0, 0, 1, 1, 1, 1, 0, 0, 0, 1, 0, 1, 1, 0, 1, 0, 1, 0, 1, 0,\n",
       "       0, 0, 0, 1, 1, 1, 0, 1, 0, 0, 0, 0, 1, 1, 0, 1, 0, 1, 0, 0, 0, 1,\n",
       "       0, 1, 0, 1, 0, 1, 0, 0, 1, 1, 0, 0, 1, 0, 0, 0, 1, 0, 1, 1, 0, 1,\n",
       "       1, 0, 1, 0], dtype=int64)"
      ]
     },
     "execution_count": 68,
     "metadata": {},
     "output_type": "execute_result"
    }
   ],
   "source": [
    "# Get Predicted Value\n",
    "prediction = model.predict(X_test)\n",
    "prediction"
   ]
  },
  {
   "cell_type": "code",
   "execution_count": 69,
   "id": "89ef25e6",
   "metadata": {},
   "outputs": [
    {
     "data": {
      "text/plain": [
       "0.6304347826086957"
      ]
     },
     "execution_count": 69,
     "metadata": {},
     "output_type": "execute_result"
    }
   ],
   "source": [
    "# Get Model Precition Score\n",
    "model_precision = precision_score(y_test,prediction)\n",
    "model_precision"
   ]
  },
  {
   "cell_type": "code",
   "execution_count": 70,
   "id": "86abbfef",
   "metadata": {},
   "outputs": [
    {
     "data": {
      "text/plain": [
       "0.7565217391304347"
      ]
     },
     "execution_count": 70,
     "metadata": {},
     "output_type": "execute_result"
    }
   ],
   "source": [
    "recall = recall_score(y_test,prediction)\n",
    "recall"
   ]
  },
  {
   "cell_type": "code",
   "execution_count": 71,
   "id": "567b3cb6",
   "metadata": {},
   "outputs": [
    {
     "data": {
      "text/plain": [
       "0.6877470355731226"
      ]
     },
     "execution_count": 71,
     "metadata": {},
     "output_type": "execute_result"
    }
   ],
   "source": [
    "F1 = f1_score(y_test,prediction)\n",
    "F1"
   ]
  },
  {
   "cell_type": "code",
   "execution_count": 72,
   "id": "f9cfe2d0",
   "metadata": {},
   "outputs": [
    {
     "data": {
      "image/png": "[encoded data removed]",
      "text/plain": [
       "<Figure size 720x576 with 2 Axes>"
      ]
     },
     "metadata": {
      "needs_background": "light"
     },
     "output_type": "display_data"
    }
   ],
   "source": [
    "# Confusion Matrics\n",
    "y_pred = model.predict(X_test)\n",
    "matrix = confusion_matrix(y_pred, y_test)\n",
    "\n",
    "cm = pd.DataFrame(matrix, index = ['Diabetes', 'Normal'],\n",
    "                            columns = ['Diabetes', 'Normal'])\n",
    "plt.figure(figsize = (10,8))\n",
    "sns.heatmap(cm,\n",
    "            annot=True,\n",
    "            cmap='Greens',\n",
    "            fmt='.5g',\n",
    "            annot_kws={\"size\": 15}).set_title('Confusion matrix', fontsize = 20, y=1.05, **hfont)\n",
    "plt.xlabel('Predicted values', fontsize = 20, **hfont)\n",
    "plt.ylabel('True values', fontsize = 20, **hfont)\n",
    "plt.savefig(\"Visualizations\\LogisticRegressionConfusuinMetrics.png\")\n",
    "plt.show()"
   ]
  },
  {
   "cell_type": "code",
   "execution_count": 73,
   "id": "611009ee",
   "metadata": {},
   "outputs": [],
   "source": [
    "modelResultsLR = ({\n",
    "    'Model Name': 'Logistic Regression',\n",
    "    'Model Score': score*100,\n",
    "    'F1 Score': F1 * 100,\n",
    "    'Precision Score': model_precision * 100\n",
    "})"
   ]
  },
  {
   "cell_type": "markdown",
   "id": "e8e251b8",
   "metadata": {},
   "source": [
    "## ARTIFICIAL NEURAL NETWORK"
   ]
  },
  {
   "cell_type": "code",
   "execution_count": 74,
   "id": "b4366aa4",
   "metadata": {},
   "outputs": [],
   "source": [
    "sm = SMOTE(random_state=0)\n",
    "\n",
    "X, y = sm.fit_resample(X, y)\n",
    "\n",
    "y = keras.utils.to_categorical(y, 2)\n",
    "\n",
    "X_train, X_test, y_train, y_test = train_test_split(X, y,test_size=0.2,random_state=2,stratify=y)\n",
    "\n",
    "scaler = StandardScaler()\n",
    "X_train = scaler.fit_transform(X_train)\n",
    "X_test = scaler.transform(X_test)\n",
    "\n",
    "model = keras.Sequential([\n",
    "    keras.layers.Flatten(input_dim=X_train.shape[1]),\n",
    "    keras.layers.Dense(256, activation='relu'),\n",
    "    keras.layers.BatchNormalization(),\n",
    "    keras.layers.Dense(2, activation='sigmoid')\n",
    "])\n",
    "\n",
    "model.compile(optimizer='adam',loss='categorical_crossentropy',metrics=['accuracy'])\n",
    "history = model.fit(X_train, y_train,batch_size=30, epochs=150,validation_data=(X_test, y_test),verbose=0)"
   ]
  },
  {
   "cell_type": "code",
   "execution_count": 75,
   "id": "58b9f1d8",
   "metadata": {},
   "outputs": [
    {
     "name": "stdout",
     "output_type": "stream",
     "text": [
      "16/16 [==============================] - 0s 2ms/step - loss: 0.0843 - accuracy: 0.9771\n",
      "Neural Network score     ========>>> 0.977\n"
     ]
    },
    {
     "data": {
      "image/png": "[encoded data removed]",
      "text/plain": [
       "<Figure size 864x576 with 1 Axes>"
      ]
     },
     "metadata": {
      "needs_background": "light"
     },
     "output_type": "display_data"
    }
   ],
   "source": [
    "## Plot History\n",
    "fig = plt.figure(figsize=(12, 8))\n",
    "plt.title('ANN Accuracy', size=20, **hfont)\n",
    "plt.plot(history.history['accuracy'], label=\"Train loss\")\n",
    "plt.plot(history.history['val_accuracy'], label=\"Test loss\")\n",
    "plt.legend()\n",
    "\n",
    "model.evaluate(X_test,y_test)\n",
    "score = np.round(model.evaluate(X_test, y_test, verbose=0)[1], 3)\n",
    "print(f'Neural Network score     ========>>> {score}')\n",
    "models_resultsANN = ({\n",
    "    'Model Name': 'Artificial Neural Network',\n",
    "    'Model Score': score * 100\n",
    "})\n",
    "plt.savefig(\"Visualizations\\ANN ACCURACY.png\")"
   ]
  },
  {
   "cell_type": "code",
   "execution_count": 76,
   "id": "cd8f7ed9",
   "metadata": {},
   "outputs": [
    {
     "data": {
      "text/plain": [
       "dict_values([{'Model Name': 'Logistic Regression', 'Model Score': 77.80898876404494, 'F1 Score': 68.77470355731225, 'Precision Score': 63.04347826086957}, {'Model Name': 'Random Forest', 'Model Score': 98.31460674157303, 'F1 Score': 97.41379310344827, 'Precision Score': 96.58119658119658}, {'Model Name': 'KNN', 'Model Score': 97.47191011235955, 'F1 Score': 96.17021276595746, 'Precision Score': 94.16666666666667}, {'Model Name': 'Artificial Neural Network', 'Model Score': 97.7}])"
      ]
     },
     "execution_count": 76,
     "metadata": {},
     "output_type": "execute_result"
    }
   ],
   "source": [
    "myalgorithms = {\n",
    "    'Logistic Regression':modelResultsLR,\n",
    "    'Random Forest Classifier': modelResultsRT,\n",
    "    'K Nearest Neighbour': modelResultsKN,\n",
    "    'Artificial Neural Network': models_resultsANN\n",
    "}\n",
    "myalgorithms.values()"
   ]
  },
  {
   "cell_type": "code",
   "execution_count": 77,
   "id": "0e44bfaf",
   "metadata": {},
   "outputs": [
    {
     "data": {
      "text/html": [
       "<div>\n",
       "<style scoped>\n",
       "    .dataframe tbody tr th:only-of-type {\n",
       "        vertical-align: middle;\n",
       "    }\n",
       "\n",
       "    .dataframe tbody tr th {\n",
       "        vertical-align: top;\n",
       "    }\n",
       "\n",
       "    .dataframe thead th {\n",
       "        text-align: right;\n",
       "    }\n",
       "</style>\n",
       "<table border=\"1\" class=\"dataframe\">\n",
       "  <thead>\n",
       "    <tr style=\"text-align: right;\">\n",
       "      <th></th>\n",
       "      <th>Model Name</th>\n",
       "      <th>Model Score</th>\n",
       "      <th>F1 Score</th>\n",
       "    </tr>\n",
       "  </thead>\n",
       "  <tbody>\n",
       "    <tr>\n",
       "      <th>1</th>\n",
       "      <td>Random Forest</td>\n",
       "      <td>98.314607</td>\n",
       "      <td>97.413793</td>\n",
       "    </tr>\n",
       "    <tr>\n",
       "      <th>3</th>\n",
       "      <td>Artificial Neural Network</td>\n",
       "      <td>97.700000</td>\n",
       "      <td>NaN</td>\n",
       "    </tr>\n",
       "    <tr>\n",
       "      <th>2</th>\n",
       "      <td>KNN</td>\n",
       "      <td>97.471910</td>\n",
       "      <td>96.170213</td>\n",
       "    </tr>\n",
       "    <tr>\n",
       "      <th>0</th>\n",
       "      <td>Logistic Regression</td>\n",
       "      <td>77.808989</td>\n",
       "      <td>68.774704</td>\n",
       "    </tr>\n",
       "  </tbody>\n",
       "</table>\n",
       "</div>"
      ],
      "text/plain": [
       "                  Model Name  Model Score   F1 Score\n",
       "1              Random Forest    98.314607  97.413793\n",
       "3  Artificial Neural Network    97.700000        NaN\n",
       "2                        KNN    97.471910  96.170213\n",
       "0        Logistic Regression    77.808989  68.774704"
      ]
     },
     "execution_count": 77,
     "metadata": {},
     "output_type": "execute_result"
    }
   ],
   "source": [
    "myalgorithmsdf = pd.DataFrame(myalgorithms.values(),columns=['Model Name','Model Score','F1 Score'])\n",
    "myalgorithmsdf.sort_values(by='Model Score',ascending=False, inplace=True)\n",
    "myalgorithmsdf"
   ]
  },
  {
   "cell_type": "code",
   "execution_count": 78,
   "id": "87466300",
   "metadata": {},
   "outputs": [
    {
     "data": {
      "image/png": "[encoded data removed]",
      "text/plain": [
       "<Figure size 1296x432 with 1 Axes>"
      ]
     },
     "metadata": {
      "needs_background": "light"
     },
     "output_type": "display_data"
    }
   ],
   "source": [
    "g = sns.catplot(x='Model Name', y='Model Score', data=myalgorithmsdf,\n",
    "                height=6, aspect=3, kind='bar', legend=True)\n",
    "g.fig.suptitle('Model Accuracy Scores', size=25, y=1.1, **hfont)\n",
    "ax = g.facet_axis(0,0)\n",
    "ax.tick_params(axis='x', which='major', labelsize=25)\n",
    "for p in ax.patches:\n",
    "    ax.text(p.get_x() + 0.27,\n",
    "            p.get_height() * 1.02,\n",
    "           '{0:.2f}%'.format(p.get_height()),\n",
    "            color='black',\n",
    "            rotation='horizontal',\n",
    "            size='x-large', **hfont)\n",
    "plt.savefig(\"Visualizations\\Models.png\")\n",
    "plt.show()"
   ]
  },
  {
   "cell_type": "markdown",
   "id": "8dcd8a31",
   "metadata": {},
   "source": [
    "## SHAP"
   ]
  },
  {
   "cell_type": "code",
   "execution_count": 79,
   "id": "860519d1",
   "metadata": {},
   "outputs": [
    {
     "data": {
      "text/plain": [
       "RandomForestClassifier(n_jobs=1, random_state=1)"
      ]
     },
     "execution_count": 79,
     "metadata": {},
     "output_type": "execute_result"
    }
   ],
   "source": [
    "# Create a object of our model Random Forest\n",
    "model = RandomForestClassifier(n_estimators= 100,n_jobs= 1,random_state= 1)\n",
    "# Call a fit method on your model with your X_train and y_train\n",
    "model.fit(X_train,y_train)"
   ]
  },
  {
   "cell_type": "code",
   "execution_count": 80,
   "id": "8cfa0c2b",
   "metadata": {},
   "outputs": [],
   "source": [
    "import shap"
   ]
  },
  {
   "cell_type": "code",
   "execution_count": 81,
   "id": "a505e753",
   "metadata": {},
   "outputs": [
    {
     "data": {
      "image/png": "[encoded data removed]",
      "text/plain": [
       "<Figure size 720x720 with 1 Axes>"
      ]
     },
     "metadata": {
      "needs_background": "light"
     },
     "output_type": "display_data"
    }
   ],
   "source": [
    "feature_importance_df = pd.DataFrame()\n",
    "feature_importance_df['feature'] = X.columns\n",
    "feature_importance_df['importance'] = model.feature_importances_\n",
    "\n",
    "feature_importance_df = feature_importance_df.sort_values('importance',ascending=False).reset_index()\n",
    "plt.figure(figsize=(10,10))\n",
    "sns.barplot(x='importance',y='feature',data=feature_importance_df[:15])\n",
    "plt.savefig(\"Visualizations\\ShapFutureImportance.png\")\n",
    "plt.show()"
   ]
  },
  {
   "cell_type": "code",
   "execution_count": null,
   "id": "4518c52e",
   "metadata": {},
   "outputs": [],
   "source": []
  }
 ],
 "metadata": {
  "kernelspec": {
   "display_name": "Python 3",
   "language": "python",
   "name": "python3"
  },
  "language_info": {
   "codemirror_mode": {
    "name": "ipython",
    "version": 3
   },
   "file_extension": ".py",
   "mimetype": "text/x-python",
   "name": "python",
   "nbconvert_exporter": "python",
   "pygments_lexer": "ipython3",
   "version": "3.9.5"
  }
 },
 "nbformat": 4,
 "nbformat_minor": 5
}
